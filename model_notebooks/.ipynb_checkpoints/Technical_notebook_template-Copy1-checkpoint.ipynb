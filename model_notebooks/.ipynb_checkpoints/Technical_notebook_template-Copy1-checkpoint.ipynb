{
 "cells": [
  {
   "cell_type": "markdown",
   "metadata": {
    "ExecuteTime": {
     "end_time": "2019-11-04T15:49:15.862990Z",
     "start_time": "2019-11-04T15:49:15.860635Z"
    }
   },
   "source": [
    "# Is there a relationship between a person's personality and 'drug name' consumption?\n",
    "\n",
    "According to the National Institute of Drug Abuse the drug usage related cost can reach or even exceed the annual $740 billion dollar in the USA: accidents from driving under the influence, crimes caused by or driven by drugs, healthcare cost, or when people dropout from potential workforce. The deaths caused by drug overdose is steadily increasing every year.\n",
    "\n",
    "Our purpose of the study is to identify the groups of people who are more likely to become users of a certain drug, so that we can reach them with preventive programs or targeted education that can keep them from becoming drug users.\n",
    "\n",
    "**[Caffeine](https://adf.org.au/drug-facts/caffeine/#wheel)**"
   ]
  },
  {
   "cell_type": "markdown",
   "metadata": {},
   "source": [
    "## Import Packages"
   ]
  },
  {
   "cell_type": "code",
   "execution_count": null,
   "metadata": {
    "ExecuteTime": {
     "end_time": "2020-01-28T02:55:30.292687Z",
     "start_time": "2020-01-28T02:55:25.523042Z"
    }
   },
   "outputs": [],
   "source": [
    "import pandas as pd\n",
    "import numpy as np\n",
    "import pickle\n",
    "\n",
    "import warnings\n",
    "warnings.filterwarnings(\"ignore\")\n",
    "\n",
    "# libraries for cleaning and preprocessing data\n",
    "from sklearn.preprocessing import StandardScaler\n",
    "from imblearn.over_sampling import SMOTE\n",
    "\n",
    "# libraries for modeling\n",
    "from sklearn.model_selection import train_test_split\n",
    "from sklearn.model_selection import GridSearchCV\n",
    "from sklearn.ensemble import RandomForestClassifier\n",
    "from sklearn.linear_model import LogisticRegression\n",
    "from sklearn.neighbors import KNeighborsClassifier\n",
    "from sklearn.svm import SVC\n",
    "import lightgbm as lgb\n",
    "\n",
    "# libraries for evaluating models\n",
    "from sklearn.metrics import confusion_matrix\n",
    "from sklearn.metrics import roc_curve, roc_auc_score\n",
    "\n",
    "# libraries for visualizations\n",
    "import matplotlib.pyplot as plt\n",
    "import seaborn as sns\n",
    "%matplotlib inline\n",
    "from helper import *\n",
    "from visualizations import *\n",
    "from modeling import *\n",
    "\n",
    "%load_ext autoreload\n",
    "%autoreload 2"
   ]
  },
  {
   "cell_type": "markdown",
   "metadata": {},
   "source": [
    "## Reading Data"
   ]
  },
  {
   "cell_type": "code",
   "execution_count": null,
   "metadata": {
    "ExecuteTime": {
     "end_time": "2020-01-28T02:55:30.422425Z",
     "start_time": "2020-01-28T02:55:30.295580Z"
    }
   },
   "outputs": [],
   "source": [
    "drugs = pd.read_csv('data/drug_consumption.data', header=None, index_col=0)"
   ]
  },
  {
   "cell_type": "code",
   "execution_count": null,
   "metadata": {
    "ExecuteTime": {
     "end_time": "2020-01-28T02:55:30.516409Z",
     "start_time": "2020-01-28T02:55:30.425700Z"
    }
   },
   "outputs": [],
   "source": [
    "# rename columns\n",
    "drugs.columns = ['Age', 'Gender', 'Education', 'Country', 'Ethnicity',\n",
    "                 'Neuroticism', 'Extraversion', 'Openness-to-experience',\n",
    "                 'Agreeableness', 'Conscientiousness', 'Impulsive',\n",
    "                 'Sensation-seeking', 'Alcohol', 'Amphet', 'Amyl', 'Benzos',\n",
    "                 'Caff', 'Cannabis', 'Choc', 'Coke', 'Crack', 'Ecstasy',\n",
    "                 'Heroin', 'Ketamine', 'Legalh', 'LSD', 'Meth', 'Mushrooms',\n",
    "                 'Nicotine', 'Semer', 'VSA']"
   ]
  },
  {
   "cell_type": "code",
   "execution_count": null,
   "metadata": {
    "ExecuteTime": {
     "end_time": "2020-01-28T02:55:30.611312Z",
     "start_time": "2020-01-28T02:55:30.519454Z"
    }
   },
   "outputs": [],
   "source": [
    "personality_cols = ['Neuroticism', 'Extraversion', 'Openness-to-experience',\n",
    "                    'Agreeableness', 'Conscientiousness', 'Impulsive',\n",
    "                    'Sensation-seeking']"
   ]
  },
  {
   "cell_type": "code",
   "execution_count": null,
   "metadata": {
    "ExecuteTime": {
     "end_time": "2020-01-28T02:55:30.722480Z",
     "start_time": "2020-01-28T02:55:30.616135Z"
    }
   },
   "outputs": [],
   "source": [
    "# Convert standardized values into categories\n",
    "category_converter(drugs)"
   ]
  },
  {
   "cell_type": "code",
   "execution_count": null,
   "metadata": {
    "ExecuteTime": {
     "end_time": "2020-01-28T02:55:42.581353Z",
     "start_time": "2020-01-28T02:55:38.567332Z"
    },
    "scrolled": true
   },
   "outputs": [],
   "source": [
    "# plot distribution of personalities for each class for <drug name>\n",
    "plot_personality(drugs, personality_cols, '<drug name>')"
   ]
  },
  {
   "cell_type": "code",
   "execution_count": null,
   "metadata": {
    "ExecuteTime": {
     "end_time": "2020-01-28T02:55:48.524627Z",
     "start_time": "2020-01-28T02:55:48.418124Z"
    }
   },
   "outputs": [],
   "source": [
    "# define drug columns\n",
    "drug_cols = ['Alcohol', 'Amphet', 'Amyl', 'Benzos',\n",
    "             'Caff', 'Cannabis', 'Choc', 'Coke', 'Crack', 'Ecstasy',\n",
    "             'Heroin', 'Ketamine', 'Legalh', 'LSD', 'Meth', 'Mushrooms',\n",
    "             'Nicotine', 'Semer', 'VSA']\n",
    "\n",
    "# define user and non-user for each drug\n",
    "for col in drug_cols:\n",
    "    drugs[f\"{col}_User\"] = [0 if (x == 'CL0') | (x == 'CL1') else 1\n",
    "                            for x in drugs[col]]"
   ]
  },
  {
   "cell_type": "code",
   "execution_count": null,
   "metadata": {
    "ExecuteTime": {
     "end_time": "2020-01-28T02:55:52.797892Z",
     "start_time": "2020-01-28T02:55:50.987260Z"
    },
    "scrolled": true
   },
   "outputs": [],
   "source": [
    "plot_feature_dist(drugs, '<drug name>')"
   ]
  },
  {
   "cell_type": "code",
   "execution_count": null,
   "metadata": {
    "ExecuteTime": {
     "end_time": "2020-01-28T02:55:58.189357Z",
     "start_time": "2020-01-28T02:55:58.137194Z"
    }
   },
   "outputs": [],
   "source": [
    "drugs = encoding(drugs)"
   ]
  },
  {
   "cell_type": "code",
   "execution_count": null,
   "metadata": {
    "ExecuteTime": {
     "end_time": "2020-01-28T02:56:28.750966Z",
     "start_time": "2020-01-28T02:56:28.656716Z"
    }
   },
   "outputs": [],
   "source": [
    "# filter for just <drug name> Users\n",
    "<drug name> = drugs[['<drug name>_User', 'Age', 'Gender', 'Education',\n",
    "             'Country', 'Ethnicity'] + personality_cols]\n",
    "\n",
    "<drug name>.rename({'<drug name>_User': 'User'}, axis=1, inplace=True)\n",
    "<drug name>.drop(columns=['Country', 'Ethnicity'], axis=1, inplace=True)\n",
    "\n",
    "# save <drug name> DataFrame for future use\n",
    "<drug name>.to_csv('data/<drug name>.csv', index=False)"
   ]
  },
  {
   "cell_type": "code",
   "execution_count": null,
   "metadata": {
    "ExecuteTime": {
     "end_time": "2020-01-28T02:56:29.569157Z",
     "start_time": "2020-01-28T02:56:29.522806Z"
    }
   },
   "outputs": [],
   "source": [
    "sns.reset_orig()"
   ]
  },
  {
   "cell_type": "code",
   "execution_count": null,
   "metadata": {
    "ExecuteTime": {
     "end_time": "2020-01-28T02:56:41.055998Z",
     "start_time": "2020-01-28T02:56:40.736323Z"
    },
    "scrolled": true
   },
   "outputs": [],
   "source": [
    "sns.countplot(<drug name>['User'])\n",
    "plt.title(f'Number of Users vs Non-Users of <drug name> \\n',\n",
    "          fontsize=14)\n",
    "plt.xticks(np.arange(len(['Non-user', 'User'])),\n",
    "           labels=['Non-user', 'User'],\n",
    "           fontsize=14)\n",
    "plt.ylabel('count', fontsize=14)\n",
    "plt.xlabel('')\n",
    "sns.despine(left=False, bottom=False)\n",
    "plt.savefig('img/users_vs_nonusers - <drug name>.png',\n",
    "            bbox_inches='tight');"
   ]
  },
  {
   "cell_type": "markdown",
   "metadata": {},
   "source": [
    "## Preprocessing Data"
   ]
  },
  {
   "cell_type": "code",
   "execution_count": null,
   "metadata": {
    "ExecuteTime": {
     "end_time": "2020-01-28T02:56:57.440618Z",
     "start_time": "2020-01-28T02:56:57.366977Z"
    },
    "scrolled": true
   },
   "outputs": [],
   "source": [
    "<drug name> = pd.read_csv('data/<drug name>.csv')\n",
    "<drug name>.head()"
   ]
  },
  {
   "cell_type": "markdown",
   "metadata": {},
   "source": [
    "## Modeling"
   ]
  },
  {
   "cell_type": "code",
   "execution_count": null,
   "metadata": {
    "ExecuteTime": {
     "end_time": "2020-01-28T02:58:38.530290Z",
     "start_time": "2020-01-28T02:58:36.704812Z"
    }
   },
   "outputs": [],
   "source": [
    "# define feature and target variables\n",
    "y = <drug name>['User']\n",
    "X = <drug name>.drop('User', axis=1)\n",
    "\n",
    "sm = SMOTE(random_state=220)\n",
    "X_sm, y_sm = sm.fit_resample(X, y)\n",
    "X_sm = pd.DataFrame(X_sm, columns=X.columns)"
   ]
  },
  {
   "cell_type": "code",
   "execution_count": null,
   "metadata": {
    "ExecuteTime": {
     "end_time": "2020-01-28T02:58:41.253059Z",
     "start_time": "2020-01-28T02:58:41.142778Z"
    }
   },
   "outputs": [],
   "source": [
    "# train-test split for modeling\n",
    "X_train, X_test, y_train, y_test = train_test_split(X_sm, y_sm, test_size=0.2,\n",
    "                                                    random_state=220)"
   ]
  },
  {
   "cell_type": "code",
   "execution_count": null,
   "metadata": {
    "ExecuteTime": {
     "end_time": "2020-01-28T02:58:41.913227Z",
     "start_time": "2020-01-28T02:58:41.823750Z"
    },
    "scrolled": true
   },
   "outputs": [],
   "source": [
    "# scale data for Logistic Regression, KNN, and SVM\n",
    "X_train_scale = X_train.copy()\n",
    "X_test_scale = X_test.copy()\n",
    "\n",
    "scale = StandardScaler()\n",
    "\n",
    "X_train_scale.loc[:, ['Age', 'Education']] = scale.fit_transform(\n",
    "    X_train_scale.loc[:, ['Age', 'Education']])\n",
    "X_test_scale.loc[:, ['Age', 'Education']] = scale.transform(\n",
    "    X_test_scale.loc[:, ['Age', 'Education']])"
   ]
  },
  {
   "cell_type": "markdown",
   "metadata": {},
   "source": [
    "### Logistic Regression"
   ]
  },
  {
   "cell_type": "code",
   "execution_count": null,
   "metadata": {
    "ExecuteTime": {
     "end_time": "2020-01-28T03:05:06.609643Z",
     "start_time": "2020-01-28T03:05:06.221116Z"
    }
   },
   "outputs": [],
   "source": [
    "grid_log = {'C': [0.001, 0.01, 10, 100],\n",
    "            'penalty': ['l1', 'l2']}\n",
    "\n",
    "gs_log = run_gridsearch_scaled(LogisticRegression, grid_log,\n",
    "                               X_train_scale, X_test_scale,\n",
    "                               y_train, y_test, random_state=220)"
   ]
  },
  {
   "cell_type": "markdown",
   "metadata": {},
   "source": [
    "### Random Forest"
   ]
  },
  {
   "cell_type": "code",
   "execution_count": null,
   "metadata": {
    "ExecuteTime": {
     "start_time": "2020-01-28T03:05:14.597Z"
    }
   },
   "outputs": [],
   "source": [
    "grid_forest = {'n_estimators': [120, 500, 1200],\n",
    "               'max_depth': [5, 25, None],\n",
    "               'min_samples_split': [2, 10, 100],\n",
    "               'min_samples_leaf': [1, 5, 10],\n",
    "               'max_features': ['log2', 'sqrt', None]}\n",
    "\n",
    "gs_forest = run_gridsearch(RandomForestClassifier, grid_forest,\n",
    "                           X_train, X_test, y_train,\n",
    "                           y_test, random_state=220)"
   ]
  },
  {
   "cell_type": "markdown",
   "metadata": {},
   "source": [
    "### LightGBM"
   ]
  },
  {
   "cell_type": "code",
   "execution_count": null,
   "metadata": {
    "ExecuteTime": {
     "end_time": "2020-01-15T20:48:24.268155Z",
     "start_time": "2020-01-15T20:48:13.411497Z"
    },
    "scrolled": false
   },
   "outputs": [],
   "source": [
    "grid_lgb = {'learning_rate': [0.01, 0.025, 0.1],\n",
    "            'max_depth': [3, 12, 25],\n",
    "            'min_child_weight': [1, 5, 7],\n",
    "            'subsample': [0.1, 0.6, 1]}\n",
    "\n",
    "gs_lgb = run_gridsearch(lgb.LGBMClassifier, grid_lgb,\n",
    "                        X_train, X_test, y_train,\n",
    "                        y_test, random_state=220)\n",
    "\n",
    "# pickle.dump(gs_<model>, open('models/<drug name>.sav', 'wb'))"
   ]
  },
  {
   "cell_type": "markdown",
   "metadata": {},
   "source": [
    "### KNN"
   ]
  },
  {
   "cell_type": "code",
   "execution_count": null,
   "metadata": {
    "ExecuteTime": {
     "end_time": "2020-01-15T20:16:43.388037Z",
     "start_time": "2020-01-15T20:16:43.195467Z"
    },
    "scrolled": true
   },
   "outputs": [],
   "source": [
    "grid_knn = {'n_neighbors': [2, 16, 64]}\n",
    "\n",
    "gs_knn = run_gridsearch_scaled(KNeighborsClassifier, grid_knn,\n",
    "                               X_train_scale, X_test_scale,\n",
    "                               y_train, y_test)"
   ]
  },
  {
   "cell_type": "markdown",
   "metadata": {},
   "source": [
    "### SVM"
   ]
  },
  {
   "cell_type": "code",
   "execution_count": null,
   "metadata": {
    "ExecuteTime": {
     "end_time": "2020-01-15T20:16:48.898313Z",
     "start_time": "2020-01-15T20:16:43.390488Z"
    }
   },
   "outputs": [],
   "source": [
    "grid_svm = {'C': [0.001, 10, 1000],\n",
    "            'class_weight': ['balanced', None],\n",
    "            'kernel': ['linear', 'rbf']}\n",
    "\n",
    "gs_svm = run_gridsearch_scaled('SVM', grid_svm,\n",
    "                               X_train_scale, X_test_scale,\n",
    "                               y_train, y_test, random_state=220)"
   ]
  },
  {
   "cell_type": "markdown",
   "metadata": {},
   "source": [
    "## Findings"
   ]
  },
  {
   "cell_type": "markdown",
   "metadata": {},
   "source": [
    "### ROC Curve\n",
    "\n",
    "We used Receiver Operating Characteristic (ROC) curves and the Area Under the Curve (AUC) scores to compare which classification method performed the best. The ROC curve shows the ratio of True Positive and False Positive rates. The perfect model (red dotted line) would show an AUC of 1 and a ROC curve that looks like an upside-down 'L', because the perfect model would show 100% True Positives. The black dotted line shows the ROC curve of a random guess."
   ]
  },
  {
   "cell_type": "code",
   "execution_count": null,
   "metadata": {
    "ExecuteTime": {
     "end_time": "2020-01-15T20:47:33.479019Z",
     "start_time": "2020-01-15T20:47:32.913571Z"
    },
    "scrolled": true
   },
   "outputs": [],
   "source": [
    "models = [gs_forest, gs_lgb, gs_log, gs_knn, gs_svm]\n",
    "\n",
    "model_names = ['RandomForest', 'LightGBM',\n",
    "               'Logistic Regression', 'KNN', 'SVM']\n",
    "\n",
    "plot_roc_curve(models, model_names, X_test, y_test, '<drug name>', X_test_scale)"
   ]
  },
  {
   "cell_type": "markdown",
   "metadata": {},
   "source": [
    "### Interpreting 'Model Name' Results\n",
    "\n",
    "I chose to focus on the 'model name' model to analyze the accuracy of predictions and which features are most important in predicting 'drug name' users."
   ]
  },
  {
   "cell_type": "code",
   "execution_count": null,
   "metadata": {
    "ExecuteTime": {
     "end_time": "2020-01-15T20:48:28.296013Z",
     "start_time": "2020-01-15T20:48:28.239186Z"
    }
   },
   "outputs": [],
   "source": [
    "gs_<model> = pickle.load(open('models/<drug name>.sav', 'rb'))"
   ]
  },
  {
   "cell_type": "markdown",
   "metadata": {},
   "source": [
    "#### Confusion Matrix\n",
    "\n",
    "The confusion matrix below shows the percent accuracy of predictions. The 'model name' model was #% accurate in predicting whether a person was a user (#%) or a nonuser (#%)."
   ]
  },
  {
   "cell_type": "code",
   "execution_count": null,
   "metadata": {
    "ExecuteTime": {
     "end_time": "2020-01-15T20:48:44.142286Z",
     "start_time": "2020-01-15T20:48:43.880478Z"
    },
    "scrolled": true
   },
   "outputs": [],
   "source": [
    "plot_confusion_matrix(y_test, X_test_scale, gs_<model>, '<drug name>')\n",
    "plt.savefig('img/<drug name>_matrix.png', bbox_inches='tight');"
   ]
  },
  {
   "cell_type": "markdown",
   "metadata": {},
   "source": [
    "#### Important Features in Predicting 'drug name' Users"
   ]
  },
  {
   "cell_type": "code",
   "execution_count": null,
   "metadata": {
    "ExecuteTime": {
     "end_time": "2020-01-15T20:51:56.320965Z",
     "start_time": "2020-01-15T20:51:56.018957Z"
    },
    "scrolled": true
   },
   "outputs": [],
   "source": [
    "plot_feat_imp(gs_<model>, X_train, '<drug name>')"
   ]
  },
  {
   "cell_type": "markdown",
   "metadata": {},
   "source": [
    "## Conclusion\n",
    "\n",
    "Based on the 5 classification models, their demographics (age, gender, and education level) and their personalities had accuracy levels of #-#% in predicting 'drug name' users. feat1 and feat2 were the 2 most influential in predicting 'drug name' consumption."
   ]
  },
  {
   "cell_type": "code",
   "execution_count": null,
   "metadata": {},
   "outputs": [],
   "source": []
  }
 ],
 "metadata": {
  "kernelspec": {
   "display_name": "Python 3",
   "language": "python",
   "name": "python3"
  },
  "language_info": {
   "codemirror_mode": {
    "name": "ipython",
    "version": 3
   },
   "file_extension": ".py",
   "mimetype": "text/x-python",
   "name": "python",
   "nbconvert_exporter": "python",
   "pygments_lexer": "ipython3",
   "version": "3.7.3"
  },
  "toc": {
   "base_numbering": 1,
   "nav_menu": {},
   "number_sections": true,
   "sideBar": true,
   "skip_h1_title": false,
   "title_cell": "Table of Contents",
   "title_sidebar": "Contents",
   "toc_cell": false,
   "toc_position": {},
   "toc_section_display": true,
   "toc_window_display": false
  }
 },
 "nbformat": 4,
 "nbformat_minor": 2
}
