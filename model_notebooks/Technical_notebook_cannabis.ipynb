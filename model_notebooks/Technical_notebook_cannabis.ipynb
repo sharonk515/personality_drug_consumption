{
 "cells": [
  {
   "cell_type": "markdown",
   "metadata": {
    "ExecuteTime": {
     "end_time": "2019-11-04T15:49:15.862990Z",
     "start_time": "2019-11-04T15:49:15.860635Z"
    }
   },
   "source": [
    "# Is there a relationship between a person's personality and Cannabis consumption?\n",
    "\n",
    "According to the National Institute of Drug Abuse the drug usage related cost can reach or even exceed the annual $740 billion dollar in the USA: accidents from driving under the influence, crimes caused by or driven by drugs, healthcare cost, or when people dropout from potential workforce. The deaths caused by drug overdose is steadily increasing every year.\n",
    "\n",
    "Our purpose of the study is to identify the groups of people who are more likely to become users of a certain drug, so that we can reach them with preventive programs or targeted education that can keep them from becoming drug users.\n",
    "\n",
    "**[Cannabis](https://adf.org.au/drug-facts/cannabis/#wheel)**\n",
    "\n",
    "Cannabis is classified as a cannabinoid drug. Other names: marijuana, yarndi, pot, weed, hash, dope, gunja, joint, stick, chronic, cone, choof, mull, 420, dabs, dabbing, BHO.\n",
    "\n",
    "**How is it used?**\n",
    "Cannabis can be smoked, eaten or vaporized and comes in different forms (marijuana, hashish, hash oil, concentrates). Cannabis can be prepared into various foods generally called ‘edibles’ and can also come in synthetic form, which may be more harmful than real cannabis.\n",
    "\n",
    "**Effects of cannabis**\n",
    "Cannabis affects every individual differently. Even the same person may have a different experience on separate occasions or over the course of their life. Effects are dependent on how much and how often the cannabis is consumed and may also be affected by how the cannabis is consumed (e.g. vaporising a concentrate versus smoking the flower).\n",
    "\n",
    "- feelings of relaxation and euphoria\n",
    "- spontaneous laughter and excitement\n",
    "- increased sociability\n",
    "- increased appetite\n",
    "- dry mouth\n",
    "- memory impairment\n",
    "- slower reflexes\n",
    "- bloodshot eyes\n",
    "- increased heart rate\n",
    "- mild anxiety and paranoia\n",
    "- reduced cognitive functioning\n",
    "\n",
    "Those with a family history of mental illness are more likely to also experience anxiety, depression and psychotic symptoms (delusions, hallucinations and seeing or hearing things that do not exist or are distorted)."
   ]
  },
  {
   "cell_type": "markdown",
   "metadata": {},
   "source": [
    "## Import Packages"
   ]
  },
  {
   "cell_type": "code",
   "execution_count": 1,
   "metadata": {
    "ExecuteTime": {
     "end_time": "2020-01-27T20:50:13.949477Z",
     "start_time": "2020-01-27T20:50:10.896678Z"
    }
   },
   "outputs": [
    {
     "data": {
      "text/html": [
       "        <script type=\"text/javascript\">\n",
       "        window.PlotlyConfig = {MathJaxConfig: 'local'};\n",
       "        if (window.MathJax) {MathJax.Hub.Config({SVG: {font: \"STIX-Web\"}});}\n",
       "        if (typeof require !== 'undefined') {\n",
       "        require.undef(\"plotly\");\n",
       "        requirejs.config({\n",
       "            paths: {\n",
       "                'plotly': ['https://cdn.plot.ly/plotly-latest.min']\n",
       "            }\n",
       "        });\n",
       "        require(['plotly'], function(Plotly) {\n",
       "            window._Plotly = Plotly;\n",
       "        });\n",
       "        }\n",
       "        </script>\n",
       "        "
      ]
     },
     "metadata": {},
     "output_type": "display_data"
    }
   ],
   "source": [
    "import pandas as pd\n",
    "import numpy as np\n",
    "import pickle\n",
    "\n",
    "import warnings\n",
    "warnings.filterwarnings(\"ignore\")\n",
    "\n",
    "# libraries for cleaning and preprocessing data\n",
    "from sklearn.preprocessing import StandardScaler\n",
    "\n",
    "# libraries for modeling\n",
    "from sklearn.model_selection import train_test_split\n",
    "from sklearn.model_selection import GridSearchCV\n",
    "from sklearn.tree import DecisionTreeClassifier\n",
    "from sklearn.ensemble import AdaBoostClassifier, RandomForestClassifier, GradientBoostingClassifier\n",
    "from sklearn.linear_model import LogisticRegression\n",
    "from sklearn.neighbors import KNeighborsClassifier\n",
    "from sklearn.svm import SVC\n",
    "import xgboost as xgb\n",
    "import lightgbm as lgb\n",
    "\n",
    "# libraries for evaluating models\n",
    "from sklearn.metrics import confusion_matrix\n",
    "from sklearn.metrics import roc_curve, roc_auc_score\n",
    "\n",
    "# libraries for visualizations\n",
    "import matplotlib.pyplot as plt\n",
    "import seaborn as sns\n",
    "%matplotlib inline\n",
    "from visualizations import *\n",
    "from modeling import *\n",
    "\n",
    "%load_ext autoreload\n",
    "%autoreload 2"
   ]
  },
  {
   "cell_type": "markdown",
   "metadata": {},
   "source": [
    "## Preprocessing Data"
   ]
  },
  {
   "cell_type": "code",
   "execution_count": 2,
   "metadata": {
    "ExecuteTime": {
     "end_time": "2020-01-27T20:50:14.063296Z",
     "start_time": "2020-01-27T20:50:13.951806Z"
    },
    "scrolled": true
   },
   "outputs": [
    {
     "data": {
      "text/html": [
       "<div>\n",
       "<style scoped>\n",
       "    .dataframe tbody tr th:only-of-type {\n",
       "        vertical-align: middle;\n",
       "    }\n",
       "\n",
       "    .dataframe tbody tr th {\n",
       "        vertical-align: top;\n",
       "    }\n",
       "\n",
       "    .dataframe thead th {\n",
       "        text-align: right;\n",
       "    }\n",
       "</style>\n",
       "<table border=\"1\" class=\"dataframe\">\n",
       "  <thead>\n",
       "    <tr style=\"text-align: right;\">\n",
       "      <th></th>\n",
       "      <th>User</th>\n",
       "      <th>Age</th>\n",
       "      <th>Gender</th>\n",
       "      <th>Education</th>\n",
       "      <th>Neuroticism</th>\n",
       "      <th>Extraversion</th>\n",
       "      <th>Openness to experience</th>\n",
       "      <th>Agreeableness</th>\n",
       "      <th>Conscientiousness</th>\n",
       "      <th>Impusivity</th>\n",
       "      <th>Sensation-seeking</th>\n",
       "    </tr>\n",
       "  </thead>\n",
       "  <tbody>\n",
       "    <tr>\n",
       "      <th>0</th>\n",
       "      <td>0</td>\n",
       "      <td>2</td>\n",
       "      <td>0</td>\n",
       "      <td>5</td>\n",
       "      <td>0.31287</td>\n",
       "      <td>-0.57545</td>\n",
       "      <td>-0.58331</td>\n",
       "      <td>-0.91699</td>\n",
       "      <td>-0.00665</td>\n",
       "      <td>-0.21712</td>\n",
       "      <td>-1.18084</td>\n",
       "    </tr>\n",
       "    <tr>\n",
       "      <th>1</th>\n",
       "      <td>1</td>\n",
       "      <td>1</td>\n",
       "      <td>1</td>\n",
       "      <td>8</td>\n",
       "      <td>-0.67825</td>\n",
       "      <td>1.93886</td>\n",
       "      <td>1.43533</td>\n",
       "      <td>0.76096</td>\n",
       "      <td>-0.14277</td>\n",
       "      <td>-0.71126</td>\n",
       "      <td>-0.21575</td>\n",
       "    </tr>\n",
       "    <tr>\n",
       "      <th>2</th>\n",
       "      <td>1</td>\n",
       "      <td>2</td>\n",
       "      <td>1</td>\n",
       "      <td>5</td>\n",
       "      <td>-0.46725</td>\n",
       "      <td>0.80523</td>\n",
       "      <td>-0.84732</td>\n",
       "      <td>-1.62090</td>\n",
       "      <td>-1.01450</td>\n",
       "      <td>-1.37983</td>\n",
       "      <td>0.40148</td>\n",
       "    </tr>\n",
       "    <tr>\n",
       "      <th>3</th>\n",
       "      <td>1</td>\n",
       "      <td>0</td>\n",
       "      <td>0</td>\n",
       "      <td>7</td>\n",
       "      <td>-0.14882</td>\n",
       "      <td>-0.80615</td>\n",
       "      <td>-0.01928</td>\n",
       "      <td>0.59042</td>\n",
       "      <td>0.58489</td>\n",
       "      <td>-1.37983</td>\n",
       "      <td>-1.18084</td>\n",
       "    </tr>\n",
       "    <tr>\n",
       "      <th>4</th>\n",
       "      <td>1</td>\n",
       "      <td>2</td>\n",
       "      <td>0</td>\n",
       "      <td>8</td>\n",
       "      <td>0.73545</td>\n",
       "      <td>-1.63340</td>\n",
       "      <td>-0.45174</td>\n",
       "      <td>-0.30172</td>\n",
       "      <td>1.30612</td>\n",
       "      <td>-0.21712</td>\n",
       "      <td>-0.21575</td>\n",
       "    </tr>\n",
       "    <tr>\n",
       "      <th>5</th>\n",
       "      <td>0</td>\n",
       "      <td>5</td>\n",
       "      <td>0</td>\n",
       "      <td>3</td>\n",
       "      <td>-0.67825</td>\n",
       "      <td>-0.30033</td>\n",
       "      <td>-1.55521</td>\n",
       "      <td>2.03972</td>\n",
       "      <td>1.63088</td>\n",
       "      <td>-1.37983</td>\n",
       "      <td>-1.54858</td>\n",
       "    </tr>\n",
       "    <tr>\n",
       "      <th>6</th>\n",
       "      <td>0</td>\n",
       "      <td>3</td>\n",
       "      <td>1</td>\n",
       "      <td>7</td>\n",
       "      <td>-0.46725</td>\n",
       "      <td>-1.09207</td>\n",
       "      <td>-0.45174</td>\n",
       "      <td>-0.30172</td>\n",
       "      <td>0.93949</td>\n",
       "      <td>-0.21712</td>\n",
       "      <td>0.07987</td>\n",
       "    </tr>\n",
       "    <tr>\n",
       "      <th>7</th>\n",
       "      <td>0</td>\n",
       "      <td>2</td>\n",
       "      <td>1</td>\n",
       "      <td>1</td>\n",
       "      <td>-1.32828</td>\n",
       "      <td>1.93886</td>\n",
       "      <td>-0.84732</td>\n",
       "      <td>-0.30172</td>\n",
       "      <td>1.63088</td>\n",
       "      <td>0.19268</td>\n",
       "      <td>-0.52593</td>\n",
       "    </tr>\n",
       "    <tr>\n",
       "      <th>8</th>\n",
       "      <td>0</td>\n",
       "      <td>2</td>\n",
       "      <td>0</td>\n",
       "      <td>5</td>\n",
       "      <td>0.62967</td>\n",
       "      <td>2.57309</td>\n",
       "      <td>-0.97631</td>\n",
       "      <td>0.76096</td>\n",
       "      <td>1.13407</td>\n",
       "      <td>-1.37983</td>\n",
       "      <td>-1.54858</td>\n",
       "    </tr>\n",
       "    <tr>\n",
       "      <th>9</th>\n",
       "      <td>0</td>\n",
       "      <td>4</td>\n",
       "      <td>1</td>\n",
       "      <td>7</td>\n",
       "      <td>-0.24649</td>\n",
       "      <td>0.00332</td>\n",
       "      <td>-1.42424</td>\n",
       "      <td>0.59042</td>\n",
       "      <td>0.12331</td>\n",
       "      <td>-1.37983</td>\n",
       "      <td>-0.84637</td>\n",
       "    </tr>\n",
       "    <tr>\n",
       "      <th>10</th>\n",
       "      <td>1</td>\n",
       "      <td>1</td>\n",
       "      <td>0</td>\n",
       "      <td>6</td>\n",
       "      <td>-1.05308</td>\n",
       "      <td>0.80523</td>\n",
       "      <td>-1.11902</td>\n",
       "      <td>-0.76096</td>\n",
       "      <td>1.81175</td>\n",
       "      <td>0.19268</td>\n",
       "      <td>0.07987</td>\n",
       "    </tr>\n",
       "    <tr>\n",
       "      <th>11</th>\n",
       "      <td>1</td>\n",
       "      <td>3</td>\n",
       "      <td>1</td>\n",
       "      <td>4</td>\n",
       "      <td>-1.32828</td>\n",
       "      <td>0.00332</td>\n",
       "      <td>0.14143</td>\n",
       "      <td>-1.92595</td>\n",
       "      <td>-0.52745</td>\n",
       "      <td>0.52975</td>\n",
       "      <td>1.22470</td>\n",
       "    </tr>\n",
       "    <tr>\n",
       "      <th>12</th>\n",
       "      <td>1</td>\n",
       "      <td>4</td>\n",
       "      <td>0</td>\n",
       "      <td>6</td>\n",
       "      <td>2.28554</td>\n",
       "      <td>0.16767</td>\n",
       "      <td>0.44585</td>\n",
       "      <td>-1.62090</td>\n",
       "      <td>-0.78155</td>\n",
       "      <td>1.29221</td>\n",
       "      <td>0.07987</td>\n",
       "    </tr>\n",
       "    <tr>\n",
       "      <th>13</th>\n",
       "      <td>0</td>\n",
       "      <td>4</td>\n",
       "      <td>0</td>\n",
       "      <td>5</td>\n",
       "      <td>-0.79151</td>\n",
       "      <td>0.80523</td>\n",
       "      <td>-0.01928</td>\n",
       "      <td>0.94156</td>\n",
       "      <td>3.46436</td>\n",
       "      <td>-0.71126</td>\n",
       "      <td>-0.84637</td>\n",
       "    </tr>\n",
       "    <tr>\n",
       "      <th>14</th>\n",
       "      <td>0</td>\n",
       "      <td>4</td>\n",
       "      <td>0</td>\n",
       "      <td>5</td>\n",
       "      <td>-0.92104</td>\n",
       "      <td>1.45421</td>\n",
       "      <td>0.44585</td>\n",
       "      <td>-0.60633</td>\n",
       "      <td>1.63088</td>\n",
       "      <td>1.29221</td>\n",
       "      <td>0.76540</td>\n",
       "    </tr>\n",
       "    <tr>\n",
       "      <th>15</th>\n",
       "      <td>0</td>\n",
       "      <td>4</td>\n",
       "      <td>1</td>\n",
       "      <td>6</td>\n",
       "      <td>-2.05048</td>\n",
       "      <td>-1.50796</td>\n",
       "      <td>-1.55521</td>\n",
       "      <td>-1.07533</td>\n",
       "      <td>1.13407</td>\n",
       "      <td>-0.71126</td>\n",
       "      <td>-0.52593</td>\n",
       "    </tr>\n",
       "    <tr>\n",
       "      <th>16</th>\n",
       "      <td>1</td>\n",
       "      <td>2</td>\n",
       "      <td>0</td>\n",
       "      <td>4</td>\n",
       "      <td>-1.55078</td>\n",
       "      <td>-0.80615</td>\n",
       "      <td>-1.68062</td>\n",
       "      <td>0.28783</td>\n",
       "      <td>0.75830</td>\n",
       "      <td>-0.21712</td>\n",
       "      <td>-2.07848</td>\n",
       "    </tr>\n",
       "    <tr>\n",
       "      <th>17</th>\n",
       "      <td>1</td>\n",
       "      <td>3</td>\n",
       "      <td>1</td>\n",
       "      <td>1</td>\n",
       "      <td>0.52135</td>\n",
       "      <td>-1.23177</td>\n",
       "      <td>-0.31776</td>\n",
       "      <td>-0.45321</td>\n",
       "      <td>-1.38502</td>\n",
       "      <td>-1.37983</td>\n",
       "      <td>-0.84637</td>\n",
       "    </tr>\n",
       "    <tr>\n",
       "      <th>18</th>\n",
       "      <td>1</td>\n",
       "      <td>4</td>\n",
       "      <td>1</td>\n",
       "      <td>6</td>\n",
       "      <td>1.37297</td>\n",
       "      <td>-0.15487</td>\n",
       "      <td>-0.17779</td>\n",
       "      <td>-1.92595</td>\n",
       "      <td>-1.51840</td>\n",
       "      <td>-0.71126</td>\n",
       "      <td>-0.21575</td>\n",
       "    </tr>\n",
       "    <tr>\n",
       "      <th>19</th>\n",
       "      <td>0</td>\n",
       "      <td>2</td>\n",
       "      <td>1</td>\n",
       "      <td>5</td>\n",
       "      <td>-0.34799</td>\n",
       "      <td>-1.76250</td>\n",
       "      <td>-2.39883</td>\n",
       "      <td>-1.92595</td>\n",
       "      <td>0.75830</td>\n",
       "      <td>-1.37983</td>\n",
       "      <td>-2.07848</td>\n",
       "    </tr>\n",
       "    <tr>\n",
       "      <th>20</th>\n",
       "      <td>1</td>\n",
       "      <td>3</td>\n",
       "      <td>1</td>\n",
       "      <td>5</td>\n",
       "      <td>-0.79151</td>\n",
       "      <td>0.80523</td>\n",
       "      <td>0.72330</td>\n",
       "      <td>1.61108</td>\n",
       "      <td>-1.13788</td>\n",
       "      <td>0.19268</td>\n",
       "      <td>-0.21575</td>\n",
       "    </tr>\n",
       "    <tr>\n",
       "      <th>21</th>\n",
       "      <td>0</td>\n",
       "      <td>5</td>\n",
       "      <td>1</td>\n",
       "      <td>0</td>\n",
       "      <td>-1.19430</td>\n",
       "      <td>0.47617</td>\n",
       "      <td>-1.11902</td>\n",
       "      <td>-0.60633</td>\n",
       "      <td>1.81175</td>\n",
       "      <td>-0.21712</td>\n",
       "      <td>-1.18084</td>\n",
       "    </tr>\n",
       "    <tr>\n",
       "      <th>22</th>\n",
       "      <td>0</td>\n",
       "      <td>3</td>\n",
       "      <td>1</td>\n",
       "      <td>6</td>\n",
       "      <td>0.41667</td>\n",
       "      <td>-0.94779</td>\n",
       "      <td>-0.84732</td>\n",
       "      <td>1.11406</td>\n",
       "      <td>-0.89891</td>\n",
       "      <td>-0.71126</td>\n",
       "      <td>0.07987</td>\n",
       "    </tr>\n",
       "    <tr>\n",
       "      <th>23</th>\n",
       "      <td>1</td>\n",
       "      <td>3</td>\n",
       "      <td>1</td>\n",
       "      <td>1</td>\n",
       "      <td>1.60383</td>\n",
       "      <td>-3.27393</td>\n",
       "      <td>-1.27553</td>\n",
       "      <td>0.28783</td>\n",
       "      <td>-1.01450</td>\n",
       "      <td>-1.37983</td>\n",
       "      <td>-1.54858</td>\n",
       "    </tr>\n",
       "    <tr>\n",
       "      <th>24</th>\n",
       "      <td>0</td>\n",
       "      <td>4</td>\n",
       "      <td>1</td>\n",
       "      <td>6</td>\n",
       "      <td>-0.14882</td>\n",
       "      <td>0.63779</td>\n",
       "      <td>1.24033</td>\n",
       "      <td>0.76096</td>\n",
       "      <td>1.46191</td>\n",
       "      <td>-0.21712</td>\n",
       "      <td>-0.52593</td>\n",
       "    </tr>\n",
       "    <tr>\n",
       "      <th>25</th>\n",
       "      <td>0</td>\n",
       "      <td>3</td>\n",
       "      <td>1</td>\n",
       "      <td>4</td>\n",
       "      <td>-0.79151</td>\n",
       "      <td>-0.43999</td>\n",
       "      <td>-1.27553</td>\n",
       "      <td>0.94156</td>\n",
       "      <td>-0.00665</td>\n",
       "      <td>-0.21712</td>\n",
       "      <td>0.40148</td>\n",
       "    </tr>\n",
       "    <tr>\n",
       "      <th>26</th>\n",
       "      <td>0</td>\n",
       "      <td>4</td>\n",
       "      <td>0</td>\n",
       "      <td>3</td>\n",
       "      <td>-0.05188</td>\n",
       "      <td>-1.63340</td>\n",
       "      <td>-3.27393</td>\n",
       "      <td>-0.76096</td>\n",
       "      <td>0.58489</td>\n",
       "      <td>0.19268</td>\n",
       "      <td>-1.54858</td>\n",
       "    </tr>\n",
       "    <tr>\n",
       "      <th>27</th>\n",
       "      <td>1</td>\n",
       "      <td>2</td>\n",
       "      <td>1</td>\n",
       "      <td>6</td>\n",
       "      <td>0.52135</td>\n",
       "      <td>-1.23177</td>\n",
       "      <td>-0.01928</td>\n",
       "      <td>-0.01729</td>\n",
       "      <td>-2.18109</td>\n",
       "      <td>1.86203</td>\n",
       "      <td>0.40148</td>\n",
       "    </tr>\n",
       "    <tr>\n",
       "      <th>28</th>\n",
       "      <td>0</td>\n",
       "      <td>2</td>\n",
       "      <td>0</td>\n",
       "      <td>7</td>\n",
       "      <td>0.04257</td>\n",
       "      <td>-1.50796</td>\n",
       "      <td>-0.71727</td>\n",
       "      <td>0.28783</td>\n",
       "      <td>1.30612</td>\n",
       "      <td>0.19268</td>\n",
       "      <td>-0.52593</td>\n",
       "    </tr>\n",
       "    <tr>\n",
       "      <th>29</th>\n",
       "      <td>0</td>\n",
       "      <td>3</td>\n",
       "      <td>1</td>\n",
       "      <td>8</td>\n",
       "      <td>-1.32828</td>\n",
       "      <td>1.74091</td>\n",
       "      <td>0.88309</td>\n",
       "      <td>0.94156</td>\n",
       "      <td>1.81175</td>\n",
       "      <td>-0.21712</td>\n",
       "      <td>-0.52593</td>\n",
       "    </tr>\n",
       "    <tr>\n",
       "      <th>...</th>\n",
       "      <td>...</td>\n",
       "      <td>...</td>\n",
       "      <td>...</td>\n",
       "      <td>...</td>\n",
       "      <td>...</td>\n",
       "      <td>...</td>\n",
       "      <td>...</td>\n",
       "      <td>...</td>\n",
       "      <td>...</td>\n",
       "      <td>...</td>\n",
       "      <td>...</td>\n",
       "    </tr>\n",
       "    <tr>\n",
       "      <th>1855</th>\n",
       "      <td>1</td>\n",
       "      <td>2</td>\n",
       "      <td>1</td>\n",
       "      <td>5</td>\n",
       "      <td>-1.19430</td>\n",
       "      <td>1.11406</td>\n",
       "      <td>0.58331</td>\n",
       "      <td>-0.01729</td>\n",
       "      <td>0.12331</td>\n",
       "      <td>-0.71126</td>\n",
       "      <td>0.40148</td>\n",
       "    </tr>\n",
       "    <tr>\n",
       "      <th>1856</th>\n",
       "      <td>1</td>\n",
       "      <td>0</td>\n",
       "      <td>1</td>\n",
       "      <td>4</td>\n",
       "      <td>0.31287</td>\n",
       "      <td>-0.57545</td>\n",
       "      <td>-0.31776</td>\n",
       "      <td>-1.47955</td>\n",
       "      <td>-0.89891</td>\n",
       "      <td>-1.37983</td>\n",
       "      <td>0.76540</td>\n",
       "    </tr>\n",
       "    <tr>\n",
       "      <th>1857</th>\n",
       "      <td>1</td>\n",
       "      <td>0</td>\n",
       "      <td>1</td>\n",
       "      <td>4</td>\n",
       "      <td>1.72012</td>\n",
       "      <td>0.32197</td>\n",
       "      <td>1.65653</td>\n",
       "      <td>-0.15487</td>\n",
       "      <td>-1.78169</td>\n",
       "      <td>2.90161</td>\n",
       "      <td>0.40148</td>\n",
       "    </tr>\n",
       "    <tr>\n",
       "      <th>1858</th>\n",
       "      <td>1</td>\n",
       "      <td>0</td>\n",
       "      <td>1</td>\n",
       "      <td>3</td>\n",
       "      <td>-0.24649</td>\n",
       "      <td>0.32197</td>\n",
       "      <td>0.44585</td>\n",
       "      <td>-0.15487</td>\n",
       "      <td>-0.14277</td>\n",
       "      <td>0.88113</td>\n",
       "      <td>1.22470</td>\n",
       "    </tr>\n",
       "    <tr>\n",
       "      <th>1859</th>\n",
       "      <td>1</td>\n",
       "      <td>2</td>\n",
       "      <td>1</td>\n",
       "      <td>4</td>\n",
       "      <td>-0.34799</td>\n",
       "      <td>0.00332</td>\n",
       "      <td>0.72330</td>\n",
       "      <td>0.28783</td>\n",
       "      <td>0.12331</td>\n",
       "      <td>-0.21712</td>\n",
       "      <td>0.76540</td>\n",
       "    </tr>\n",
       "    <tr>\n",
       "      <th>1860</th>\n",
       "      <td>1</td>\n",
       "      <td>4</td>\n",
       "      <td>0</td>\n",
       "      <td>6</td>\n",
       "      <td>-1.69163</td>\n",
       "      <td>-1.09207</td>\n",
       "      <td>1.06238</td>\n",
       "      <td>-0.45321</td>\n",
       "      <td>-0.65253</td>\n",
       "      <td>-0.71126</td>\n",
       "      <td>0.07987</td>\n",
       "    </tr>\n",
       "    <tr>\n",
       "      <th>1861</th>\n",
       "      <td>1</td>\n",
       "      <td>1</td>\n",
       "      <td>0</td>\n",
       "      <td>6</td>\n",
       "      <td>-0.34799</td>\n",
       "      <td>0.00332</td>\n",
       "      <td>1.24033</td>\n",
       "      <td>-0.15487</td>\n",
       "      <td>0.41594</td>\n",
       "      <td>0.88113</td>\n",
       "      <td>0.40148</td>\n",
       "    </tr>\n",
       "    <tr>\n",
       "      <th>1862</th>\n",
       "      <td>1</td>\n",
       "      <td>3</td>\n",
       "      <td>1</td>\n",
       "      <td>0</td>\n",
       "      <td>0.73545</td>\n",
       "      <td>-0.43999</td>\n",
       "      <td>0.44585</td>\n",
       "      <td>-1.07533</td>\n",
       "      <td>0.25953</td>\n",
       "      <td>0.52975</td>\n",
       "      <td>0.40148</td>\n",
       "    </tr>\n",
       "    <tr>\n",
       "      <th>1863</th>\n",
       "      <td>1</td>\n",
       "      <td>0</td>\n",
       "      <td>0</td>\n",
       "      <td>4</td>\n",
       "      <td>0.62967</td>\n",
       "      <td>0.63779</td>\n",
       "      <td>2.90161</td>\n",
       "      <td>-1.07533</td>\n",
       "      <td>0.93949</td>\n",
       "      <td>0.88113</td>\n",
       "      <td>1.22470</td>\n",
       "    </tr>\n",
       "    <tr>\n",
       "      <th>1864</th>\n",
       "      <td>1</td>\n",
       "      <td>1</td>\n",
       "      <td>1</td>\n",
       "      <td>4</td>\n",
       "      <td>-2.05048</td>\n",
       "      <td>0.00332</td>\n",
       "      <td>2.15324</td>\n",
       "      <td>-0.91699</td>\n",
       "      <td>0.41594</td>\n",
       "      <td>-0.21712</td>\n",
       "      <td>0.40148</td>\n",
       "    </tr>\n",
       "    <tr>\n",
       "      <th>1865</th>\n",
       "      <td>1</td>\n",
       "      <td>0</td>\n",
       "      <td>0</td>\n",
       "      <td>5</td>\n",
       "      <td>0.04257</td>\n",
       "      <td>0.00332</td>\n",
       "      <td>2.44904</td>\n",
       "      <td>-0.60633</td>\n",
       "      <td>-2.18109</td>\n",
       "      <td>0.88113</td>\n",
       "      <td>1.22470</td>\n",
       "    </tr>\n",
       "    <tr>\n",
       "      <th>1866</th>\n",
       "      <td>1</td>\n",
       "      <td>0</td>\n",
       "      <td>0</td>\n",
       "      <td>6</td>\n",
       "      <td>0.13606</td>\n",
       "      <td>-0.80615</td>\n",
       "      <td>1.43533</td>\n",
       "      <td>0.28783</td>\n",
       "      <td>1.63088</td>\n",
       "      <td>-0.71126</td>\n",
       "      <td>-0.21575</td>\n",
       "    </tr>\n",
       "    <tr>\n",
       "      <th>1867</th>\n",
       "      <td>1</td>\n",
       "      <td>0</td>\n",
       "      <td>0</td>\n",
       "      <td>4</td>\n",
       "      <td>1.13281</td>\n",
       "      <td>-0.43999</td>\n",
       "      <td>0.29338</td>\n",
       "      <td>-0.76096</td>\n",
       "      <td>-0.14277</td>\n",
       "      <td>1.86203</td>\n",
       "      <td>-0.21575</td>\n",
       "    </tr>\n",
       "    <tr>\n",
       "      <th>1868</th>\n",
       "      <td>1</td>\n",
       "      <td>0</td>\n",
       "      <td>1</td>\n",
       "      <td>4</td>\n",
       "      <td>-0.58016</td>\n",
       "      <td>-0.15487</td>\n",
       "      <td>0.29338</td>\n",
       "      <td>-1.62090</td>\n",
       "      <td>-1.38502</td>\n",
       "      <td>0.19268</td>\n",
       "      <td>0.40148</td>\n",
       "    </tr>\n",
       "    <tr>\n",
       "      <th>1869</th>\n",
       "      <td>1</td>\n",
       "      <td>0</td>\n",
       "      <td>1</td>\n",
       "      <td>4</td>\n",
       "      <td>-0.14882</td>\n",
       "      <td>1.11406</td>\n",
       "      <td>1.43533</td>\n",
       "      <td>-0.30172</td>\n",
       "      <td>-0.00665</td>\n",
       "      <td>0.19268</td>\n",
       "      <td>0.76540</td>\n",
       "    </tr>\n",
       "    <tr>\n",
       "      <th>1870</th>\n",
       "      <td>1</td>\n",
       "      <td>1</td>\n",
       "      <td>0</td>\n",
       "      <td>6</td>\n",
       "      <td>-1.05308</td>\n",
       "      <td>0.96248</td>\n",
       "      <td>1.88511</td>\n",
       "      <td>1.81866</td>\n",
       "      <td>1.30612</td>\n",
       "      <td>-0.71126</td>\n",
       "      <td>0.07987</td>\n",
       "    </tr>\n",
       "    <tr>\n",
       "      <th>1871</th>\n",
       "      <td>1</td>\n",
       "      <td>0</td>\n",
       "      <td>1</td>\n",
       "      <td>3</td>\n",
       "      <td>1.02119</td>\n",
       "      <td>-0.43999</td>\n",
       "      <td>1.43533</td>\n",
       "      <td>-1.07533</td>\n",
       "      <td>0.12331</td>\n",
       "      <td>-0.71126</td>\n",
       "      <td>0.40148</td>\n",
       "    </tr>\n",
       "    <tr>\n",
       "      <th>1872</th>\n",
       "      <td>1</td>\n",
       "      <td>0</td>\n",
       "      <td>1</td>\n",
       "      <td>4</td>\n",
       "      <td>-0.79151</td>\n",
       "      <td>0.00332</td>\n",
       "      <td>2.44904</td>\n",
       "      <td>0.76096</td>\n",
       "      <td>-1.51840</td>\n",
       "      <td>0.88113</td>\n",
       "      <td>1.92173</td>\n",
       "    </tr>\n",
       "    <tr>\n",
       "      <th>1873</th>\n",
       "      <td>1</td>\n",
       "      <td>0</td>\n",
       "      <td>1</td>\n",
       "      <td>2</td>\n",
       "      <td>0.73545</td>\n",
       "      <td>-1.23177</td>\n",
       "      <td>0.58331</td>\n",
       "      <td>-0.60633</td>\n",
       "      <td>-0.40581</td>\n",
       "      <td>0.52975</td>\n",
       "      <td>0.40148</td>\n",
       "    </tr>\n",
       "    <tr>\n",
       "      <th>1874</th>\n",
       "      <td>1</td>\n",
       "      <td>5</td>\n",
       "      <td>1</td>\n",
       "      <td>4</td>\n",
       "      <td>2.12700</td>\n",
       "      <td>-0.15487</td>\n",
       "      <td>2.44904</td>\n",
       "      <td>0.94156</td>\n",
       "      <td>-0.65253</td>\n",
       "      <td>-0.21712</td>\n",
       "      <td>0.07987</td>\n",
       "    </tr>\n",
       "    <tr>\n",
       "      <th>1875</th>\n",
       "      <td>1</td>\n",
       "      <td>0</td>\n",
       "      <td>1</td>\n",
       "      <td>4</td>\n",
       "      <td>-0.05188</td>\n",
       "      <td>-1.76250</td>\n",
       "      <td>0.58331</td>\n",
       "      <td>-0.76096</td>\n",
       "      <td>-0.14277</td>\n",
       "      <td>1.29221</td>\n",
       "      <td>1.22470</td>\n",
       "    </tr>\n",
       "    <tr>\n",
       "      <th>1876</th>\n",
       "      <td>1</td>\n",
       "      <td>1</td>\n",
       "      <td>1</td>\n",
       "      <td>4</td>\n",
       "      <td>-0.14882</td>\n",
       "      <td>-0.57545</td>\n",
       "      <td>1.43533</td>\n",
       "      <td>-0.91699</td>\n",
       "      <td>-0.78155</td>\n",
       "      <td>0.52975</td>\n",
       "      <td>0.40148</td>\n",
       "    </tr>\n",
       "    <tr>\n",
       "      <th>1877</th>\n",
       "      <td>1</td>\n",
       "      <td>0</td>\n",
       "      <td>1</td>\n",
       "      <td>2</td>\n",
       "      <td>1.49158</td>\n",
       "      <td>-1.92173</td>\n",
       "      <td>-0.58331</td>\n",
       "      <td>-1.77200</td>\n",
       "      <td>0.58489</td>\n",
       "      <td>-0.21712</td>\n",
       "      <td>1.22470</td>\n",
       "    </tr>\n",
       "    <tr>\n",
       "      <th>1878</th>\n",
       "      <td>1</td>\n",
       "      <td>0</td>\n",
       "      <td>1</td>\n",
       "      <td>6</td>\n",
       "      <td>-0.05188</td>\n",
       "      <td>-1.76250</td>\n",
       "      <td>0.88309</td>\n",
       "      <td>-0.76096</td>\n",
       "      <td>2.33337</td>\n",
       "      <td>-0.71126</td>\n",
       "      <td>-0.21575</td>\n",
       "    </tr>\n",
       "    <tr>\n",
       "      <th>1879</th>\n",
       "      <td>1</td>\n",
       "      <td>0</td>\n",
       "      <td>1</td>\n",
       "      <td>4</td>\n",
       "      <td>-0.79151</td>\n",
       "      <td>0.32197</td>\n",
       "      <td>0.29338</td>\n",
       "      <td>-0.30172</td>\n",
       "      <td>-0.27607</td>\n",
       "      <td>0.88113</td>\n",
       "      <td>0.76540</td>\n",
       "    </tr>\n",
       "    <tr>\n",
       "      <th>1880</th>\n",
       "      <td>1</td>\n",
       "      <td>0</td>\n",
       "      <td>0</td>\n",
       "      <td>4</td>\n",
       "      <td>-1.19430</td>\n",
       "      <td>1.74091</td>\n",
       "      <td>1.88511</td>\n",
       "      <td>0.76096</td>\n",
       "      <td>-1.13788</td>\n",
       "      <td>0.88113</td>\n",
       "      <td>1.92173</td>\n",
       "    </tr>\n",
       "    <tr>\n",
       "      <th>1881</th>\n",
       "      <td>1</td>\n",
       "      <td>0</td>\n",
       "      <td>1</td>\n",
       "      <td>4</td>\n",
       "      <td>-0.24649</td>\n",
       "      <td>1.74091</td>\n",
       "      <td>0.58331</td>\n",
       "      <td>0.76096</td>\n",
       "      <td>-1.51840</td>\n",
       "      <td>0.88113</td>\n",
       "      <td>0.76540</td>\n",
       "    </tr>\n",
       "    <tr>\n",
       "      <th>1882</th>\n",
       "      <td>1</td>\n",
       "      <td>1</td>\n",
       "      <td>0</td>\n",
       "      <td>6</td>\n",
       "      <td>1.13281</td>\n",
       "      <td>-1.37639</td>\n",
       "      <td>-1.27553</td>\n",
       "      <td>-1.77200</td>\n",
       "      <td>-1.38502</td>\n",
       "      <td>0.52975</td>\n",
       "      <td>-0.52593</td>\n",
       "    </tr>\n",
       "    <tr>\n",
       "      <th>1883</th>\n",
       "      <td>1</td>\n",
       "      <td>0</td>\n",
       "      <td>0</td>\n",
       "      <td>4</td>\n",
       "      <td>0.91093</td>\n",
       "      <td>-1.92173</td>\n",
       "      <td>0.29338</td>\n",
       "      <td>-1.62090</td>\n",
       "      <td>-2.57309</td>\n",
       "      <td>1.29221</td>\n",
       "      <td>1.22470</td>\n",
       "    </tr>\n",
       "    <tr>\n",
       "      <th>1884</th>\n",
       "      <td>1</td>\n",
       "      <td>0</td>\n",
       "      <td>1</td>\n",
       "      <td>4</td>\n",
       "      <td>-0.46725</td>\n",
       "      <td>2.12700</td>\n",
       "      <td>1.65653</td>\n",
       "      <td>1.11406</td>\n",
       "      <td>0.41594</td>\n",
       "      <td>0.88113</td>\n",
       "      <td>1.22470</td>\n",
       "    </tr>\n",
       "  </tbody>\n",
       "</table>\n",
       "<p>1885 rows × 11 columns</p>\n",
       "</div>"
      ],
      "text/plain": [
       "      User  Age  Gender  Education  Neuroticism  Extraversion  \\\n",
       "0        0    2       0          5      0.31287      -0.57545   \n",
       "1        1    1       1          8     -0.67825       1.93886   \n",
       "2        1    2       1          5     -0.46725       0.80523   \n",
       "3        1    0       0          7     -0.14882      -0.80615   \n",
       "4        1    2       0          8      0.73545      -1.63340   \n",
       "5        0    5       0          3     -0.67825      -0.30033   \n",
       "6        0    3       1          7     -0.46725      -1.09207   \n",
       "7        0    2       1          1     -1.32828       1.93886   \n",
       "8        0    2       0          5      0.62967       2.57309   \n",
       "9        0    4       1          7     -0.24649       0.00332   \n",
       "10       1    1       0          6     -1.05308       0.80523   \n",
       "11       1    3       1          4     -1.32828       0.00332   \n",
       "12       1    4       0          6      2.28554       0.16767   \n",
       "13       0    4       0          5     -0.79151       0.80523   \n",
       "14       0    4       0          5     -0.92104       1.45421   \n",
       "15       0    4       1          6     -2.05048      -1.50796   \n",
       "16       1    2       0          4     -1.55078      -0.80615   \n",
       "17       1    3       1          1      0.52135      -1.23177   \n",
       "18       1    4       1          6      1.37297      -0.15487   \n",
       "19       0    2       1          5     -0.34799      -1.76250   \n",
       "20       1    3       1          5     -0.79151       0.80523   \n",
       "21       0    5       1          0     -1.19430       0.47617   \n",
       "22       0    3       1          6      0.41667      -0.94779   \n",
       "23       1    3       1          1      1.60383      -3.27393   \n",
       "24       0    4       1          6     -0.14882       0.63779   \n",
       "25       0    3       1          4     -0.79151      -0.43999   \n",
       "26       0    4       0          3     -0.05188      -1.63340   \n",
       "27       1    2       1          6      0.52135      -1.23177   \n",
       "28       0    2       0          7      0.04257      -1.50796   \n",
       "29       0    3       1          8     -1.32828       1.74091   \n",
       "...    ...  ...     ...        ...          ...           ...   \n",
       "1855     1    2       1          5     -1.19430       1.11406   \n",
       "1856     1    0       1          4      0.31287      -0.57545   \n",
       "1857     1    0       1          4      1.72012       0.32197   \n",
       "1858     1    0       1          3     -0.24649       0.32197   \n",
       "1859     1    2       1          4     -0.34799       0.00332   \n",
       "1860     1    4       0          6     -1.69163      -1.09207   \n",
       "1861     1    1       0          6     -0.34799       0.00332   \n",
       "1862     1    3       1          0      0.73545      -0.43999   \n",
       "1863     1    0       0          4      0.62967       0.63779   \n",
       "1864     1    1       1          4     -2.05048       0.00332   \n",
       "1865     1    0       0          5      0.04257       0.00332   \n",
       "1866     1    0       0          6      0.13606      -0.80615   \n",
       "1867     1    0       0          4      1.13281      -0.43999   \n",
       "1868     1    0       1          4     -0.58016      -0.15487   \n",
       "1869     1    0       1          4     -0.14882       1.11406   \n",
       "1870     1    1       0          6     -1.05308       0.96248   \n",
       "1871     1    0       1          3      1.02119      -0.43999   \n",
       "1872     1    0       1          4     -0.79151       0.00332   \n",
       "1873     1    0       1          2      0.73545      -1.23177   \n",
       "1874     1    5       1          4      2.12700      -0.15487   \n",
       "1875     1    0       1          4     -0.05188      -1.76250   \n",
       "1876     1    1       1          4     -0.14882      -0.57545   \n",
       "1877     1    0       1          2      1.49158      -1.92173   \n",
       "1878     1    0       1          6     -0.05188      -1.76250   \n",
       "1879     1    0       1          4     -0.79151       0.32197   \n",
       "1880     1    0       0          4     -1.19430       1.74091   \n",
       "1881     1    0       1          4     -0.24649       1.74091   \n",
       "1882     1    1       0          6      1.13281      -1.37639   \n",
       "1883     1    0       0          4      0.91093      -1.92173   \n",
       "1884     1    0       1          4     -0.46725       2.12700   \n",
       "\n",
       "      Openness to experience  Agreeableness  Conscientiousness  Impusivity  \\\n",
       "0                   -0.58331       -0.91699           -0.00665    -0.21712   \n",
       "1                    1.43533        0.76096           -0.14277    -0.71126   \n",
       "2                   -0.84732       -1.62090           -1.01450    -1.37983   \n",
       "3                   -0.01928        0.59042            0.58489    -1.37983   \n",
       "4                   -0.45174       -0.30172            1.30612    -0.21712   \n",
       "5                   -1.55521        2.03972            1.63088    -1.37983   \n",
       "6                   -0.45174       -0.30172            0.93949    -0.21712   \n",
       "7                   -0.84732       -0.30172            1.63088     0.19268   \n",
       "8                   -0.97631        0.76096            1.13407    -1.37983   \n",
       "9                   -1.42424        0.59042            0.12331    -1.37983   \n",
       "10                  -1.11902       -0.76096            1.81175     0.19268   \n",
       "11                   0.14143       -1.92595           -0.52745     0.52975   \n",
       "12                   0.44585       -1.62090           -0.78155     1.29221   \n",
       "13                  -0.01928        0.94156            3.46436    -0.71126   \n",
       "14                   0.44585       -0.60633            1.63088     1.29221   \n",
       "15                  -1.55521       -1.07533            1.13407    -0.71126   \n",
       "16                  -1.68062        0.28783            0.75830    -0.21712   \n",
       "17                  -0.31776       -0.45321           -1.38502    -1.37983   \n",
       "18                  -0.17779       -1.92595           -1.51840    -0.71126   \n",
       "19                  -2.39883       -1.92595            0.75830    -1.37983   \n",
       "20                   0.72330        1.61108           -1.13788     0.19268   \n",
       "21                  -1.11902       -0.60633            1.81175    -0.21712   \n",
       "22                  -0.84732        1.11406           -0.89891    -0.71126   \n",
       "23                  -1.27553        0.28783           -1.01450    -1.37983   \n",
       "24                   1.24033        0.76096            1.46191    -0.21712   \n",
       "25                  -1.27553        0.94156           -0.00665    -0.21712   \n",
       "26                  -3.27393       -0.76096            0.58489     0.19268   \n",
       "27                  -0.01928       -0.01729           -2.18109     1.86203   \n",
       "28                  -0.71727        0.28783            1.30612     0.19268   \n",
       "29                   0.88309        0.94156            1.81175    -0.21712   \n",
       "...                      ...            ...                ...         ...   \n",
       "1855                 0.58331       -0.01729            0.12331    -0.71126   \n",
       "1856                -0.31776       -1.47955           -0.89891    -1.37983   \n",
       "1857                 1.65653       -0.15487           -1.78169     2.90161   \n",
       "1858                 0.44585       -0.15487           -0.14277     0.88113   \n",
       "1859                 0.72330        0.28783            0.12331    -0.21712   \n",
       "1860                 1.06238       -0.45321           -0.65253    -0.71126   \n",
       "1861                 1.24033       -0.15487            0.41594     0.88113   \n",
       "1862                 0.44585       -1.07533            0.25953     0.52975   \n",
       "1863                 2.90161       -1.07533            0.93949     0.88113   \n",
       "1864                 2.15324       -0.91699            0.41594    -0.21712   \n",
       "1865                 2.44904       -0.60633           -2.18109     0.88113   \n",
       "1866                 1.43533        0.28783            1.63088    -0.71126   \n",
       "1867                 0.29338       -0.76096           -0.14277     1.86203   \n",
       "1868                 0.29338       -1.62090           -1.38502     0.19268   \n",
       "1869                 1.43533       -0.30172           -0.00665     0.19268   \n",
       "1870                 1.88511        1.81866            1.30612    -0.71126   \n",
       "1871                 1.43533       -1.07533            0.12331    -0.71126   \n",
       "1872                 2.44904        0.76096           -1.51840     0.88113   \n",
       "1873                 0.58331       -0.60633           -0.40581     0.52975   \n",
       "1874                 2.44904        0.94156           -0.65253    -0.21712   \n",
       "1875                 0.58331       -0.76096           -0.14277     1.29221   \n",
       "1876                 1.43533       -0.91699           -0.78155     0.52975   \n",
       "1877                -0.58331       -1.77200            0.58489    -0.21712   \n",
       "1878                 0.88309       -0.76096            2.33337    -0.71126   \n",
       "1879                 0.29338       -0.30172           -0.27607     0.88113   \n",
       "1880                 1.88511        0.76096           -1.13788     0.88113   \n",
       "1881                 0.58331        0.76096           -1.51840     0.88113   \n",
       "1882                -1.27553       -1.77200           -1.38502     0.52975   \n",
       "1883                 0.29338       -1.62090           -2.57309     1.29221   \n",
       "1884                 1.65653        1.11406            0.41594     0.88113   \n",
       "\n",
       "      Sensation-seeking  \n",
       "0              -1.18084  \n",
       "1              -0.21575  \n",
       "2               0.40148  \n",
       "3              -1.18084  \n",
       "4              -0.21575  \n",
       "5              -1.54858  \n",
       "6               0.07987  \n",
       "7              -0.52593  \n",
       "8              -1.54858  \n",
       "9              -0.84637  \n",
       "10              0.07987  \n",
       "11              1.22470  \n",
       "12              0.07987  \n",
       "13             -0.84637  \n",
       "14              0.76540  \n",
       "15             -0.52593  \n",
       "16             -2.07848  \n",
       "17             -0.84637  \n",
       "18             -0.21575  \n",
       "19             -2.07848  \n",
       "20             -0.21575  \n",
       "21             -1.18084  \n",
       "22              0.07987  \n",
       "23             -1.54858  \n",
       "24             -0.52593  \n",
       "25              0.40148  \n",
       "26             -1.54858  \n",
       "27              0.40148  \n",
       "28             -0.52593  \n",
       "29             -0.52593  \n",
       "...                 ...  \n",
       "1855            0.40148  \n",
       "1856            0.76540  \n",
       "1857            0.40148  \n",
       "1858            1.22470  \n",
       "1859            0.76540  \n",
       "1860            0.07987  \n",
       "1861            0.40148  \n",
       "1862            0.40148  \n",
       "1863            1.22470  \n",
       "1864            0.40148  \n",
       "1865            1.22470  \n",
       "1866           -0.21575  \n",
       "1867           -0.21575  \n",
       "1868            0.40148  \n",
       "1869            0.76540  \n",
       "1870            0.07987  \n",
       "1871            0.40148  \n",
       "1872            1.92173  \n",
       "1873            0.40148  \n",
       "1874            0.07987  \n",
       "1875            1.22470  \n",
       "1876            0.40148  \n",
       "1877            1.22470  \n",
       "1878           -0.21575  \n",
       "1879            0.76540  \n",
       "1880            1.92173  \n",
       "1881            0.76540  \n",
       "1882           -0.52593  \n",
       "1883            1.22470  \n",
       "1884            1.22470  \n",
       "\n",
       "[1885 rows x 11 columns]"
      ]
     },
     "execution_count": 2,
     "metadata": {},
     "output_type": "execute_result"
    }
   ],
   "source": [
    "cannabis = pd.read_csv('data/cannabis.csv')\n",
    "cannabis"
   ]
  },
  {
   "cell_type": "markdown",
   "metadata": {},
   "source": [
    "## Modeling"
   ]
  },
  {
   "cell_type": "code",
   "execution_count": 3,
   "metadata": {
    "ExecuteTime": {
     "end_time": "2020-01-27T20:50:17.350159Z",
     "start_time": "2020-01-27T20:50:17.289927Z"
    }
   },
   "outputs": [],
   "source": [
    "# define feature and target variables\n",
    "y = cannabis['User']\n",
    "X = cannabis.drop('User', axis=1)\n",
    "\n",
    "# train-test split for modeling\n",
    "X_train, X_test, y_train, y_test = train_test_split(X, y, test_size=0.2,\n",
    "                                                    random_state=220,\n",
    "                                                    stratify=y)"
   ]
  },
  {
   "cell_type": "code",
   "execution_count": 4,
   "metadata": {
    "ExecuteTime": {
     "end_time": "2020-01-27T20:50:18.031368Z",
     "start_time": "2020-01-27T20:50:17.964024Z"
    },
    "scrolled": true
   },
   "outputs": [],
   "source": [
    "# scale data for Logistic Regression, KNN, and SVM\n",
    "X_train_scale = X_train.copy()\n",
    "X_test_scale = X_test.copy()\n",
    "\n",
    "scale = StandardScaler()\n",
    "\n",
    "X_train_scale.loc[:, ['Age', 'Education']] = scale.fit_transform(\n",
    "    X_train_scale.loc[:, ['Age', 'Education']])\n",
    "X_test_scale.loc[:, ['Age', 'Education']] = scale.transform(\n",
    "    X_test_scale.loc[:, ['Age', 'Education']])"
   ]
  },
  {
   "cell_type": "markdown",
   "metadata": {
    "heading_collapsed": true
   },
   "source": [
    "### Logistic Regression"
   ]
  },
  {
   "cell_type": "code",
   "execution_count": 5,
   "metadata": {
    "ExecuteTime": {
     "end_time": "2020-01-15T20:15:08.206573Z",
     "start_time": "2020-01-15T20:15:05.884696Z"
    },
    "hidden": true
   },
   "outputs": [
    {
     "name": "stdout",
     "output_type": "stream",
     "text": [
      "Fitting 5 folds for each of 20 candidates, totalling 100 fits\n"
     ]
    },
    {
     "name": "stderr",
     "output_type": "stream",
     "text": [
      "[Parallel(n_jobs=-1)]: Using backend LokyBackend with 8 concurrent workers.\n"
     ]
    },
    {
     "name": "stdout",
     "output_type": "stream",
     "text": [
      "Best params: {'C': 0.046415888336127774, 'penalty': 'l2'}\n",
      "Train score: 0.798\n",
      "Test score: 0.804\n"
     ]
    },
    {
     "name": "stderr",
     "output_type": "stream",
     "text": [
      "[Parallel(n_jobs=-1)]: Done  34 tasks      | elapsed:    2.1s\n",
      "[Parallel(n_jobs=-1)]: Done 100 out of 100 | elapsed:    2.2s finished\n"
     ]
    }
   ],
   "source": [
    "grid_log = [{'C': np.logspace(-2, 4, 10),\n",
    "             'penalty': ['l1', 'l2']}]\n",
    "\n",
    "gs_log = run_gridsearch_scaled(LogisticRegression, grid_log,\n",
    "                               X_train_scale, X_test_scale,\n",
    "                               y_train, y_test, random_state=220)"
   ]
  },
  {
   "cell_type": "markdown",
   "metadata": {
    "heading_collapsed": true
   },
   "source": [
    "### Decision Tree"
   ]
  },
  {
   "cell_type": "code",
   "execution_count": 6,
   "metadata": {
    "ExecuteTime": {
     "end_time": "2020-01-15T20:15:10.379191Z",
     "start_time": "2020-01-15T20:15:09.683096Z"
    },
    "hidden": true
   },
   "outputs": [
    {
     "name": "stdout",
     "output_type": "stream",
     "text": [
      "Fitting 5 folds for each of 72 candidates, totalling 360 fits\n"
     ]
    },
    {
     "name": "stderr",
     "output_type": "stream",
     "text": [
      "[Parallel(n_jobs=-1)]: Using backend LokyBackend with 8 concurrent workers.\n"
     ]
    },
    {
     "name": "stdout",
     "output_type": "stream",
     "text": [
      "Best params: {'criterion': 'gini', 'max_depth': 4, 'max_features': 8, 'min_samples_leaf': 2, 'min_samples_split': 2}\n",
      "Train score: 0.773\n",
      "Test score: 0.780\n"
     ]
    },
    {
     "name": "stderr",
     "output_type": "stream",
     "text": [
      "[Parallel(n_jobs=-1)]: Done 360 out of 360 | elapsed:    0.6s finished\n"
     ]
    }
   ],
   "source": [
    "grid_tree = [{'criterion': ['gini', 'entropy'],\n",
    "              'max_depth': [3, 4, 5],\n",
    "              'min_samples_split': [2, 3],\n",
    "              'min_samples_leaf': [2, 3],\n",
    "              'max_features': [7, 8, 9]}]\n",
    "\n",
    "gs_tree = run_gridsearch(DecisionTreeClassifier, grid_tree,\n",
    "                         X_train, X_test,\n",
    "                         y_train, y_test, random_state=220)"
   ]
  },
  {
   "cell_type": "markdown",
   "metadata": {
    "heading_collapsed": true
   },
   "source": [
    "### Random Forest"
   ]
  },
  {
   "cell_type": "code",
   "execution_count": 7,
   "metadata": {
    "ExecuteTime": {
     "end_time": "2020-01-15T20:15:35.371489Z",
     "start_time": "2020-01-15T20:15:15.111818Z"
    },
    "hidden": true
   },
   "outputs": [
    {
     "name": "stdout",
     "output_type": "stream",
     "text": [
      "Fitting 5 folds for each of 96 candidates, totalling 480 fits\n"
     ]
    },
    {
     "name": "stderr",
     "output_type": "stream",
     "text": [
      "[Parallel(n_jobs=-1)]: Using backend LokyBackend with 8 concurrent workers.\n",
      "[Parallel(n_jobs=-1)]: Done  34 tasks      | elapsed:    1.4s\n",
      "[Parallel(n_jobs=-1)]: Done 184 tasks      | elapsed:    7.7s\n",
      "[Parallel(n_jobs=-1)]: Done 434 tasks      | elapsed:   18.4s\n"
     ]
    },
    {
     "name": "stdout",
     "output_type": "stream",
     "text": [
      "Best params: {'criterion': 'gini', 'max_depth': 7, 'max_features': 3, 'min_samples_leaf': 16, 'min_samples_split': 2, 'n_estimators': 100}\n",
      "Train score: 0.798\n",
      "Test score: 0.798\n"
     ]
    },
    {
     "name": "stderr",
     "output_type": "stream",
     "text": [
      "[Parallel(n_jobs=-1)]: Done 480 out of 480 | elapsed:   20.0s finished\n"
     ]
    }
   ],
   "source": [
    "grid_forest = [{'criterion': ['gini', 'entropy'],\n",
    "                'n_estimators': [90, 100],\n",
    "                'max_depth': [6, 7],\n",
    "                'min_samples_split': [2, 3],\n",
    "                'min_samples_leaf': [15, 16],\n",
    "                'max_features': [2, 3, 4]}]\n",
    "\n",
    "gs_forest = run_gridsearch(RandomForestClassifier, grid_forest,\n",
    "                           X_train, X_test,\n",
    "                           y_train, y_test, random_state=220)"
   ]
  },
  {
   "cell_type": "markdown",
   "metadata": {},
   "source": [
    "### Boosting"
   ]
  },
  {
   "cell_type": "markdown",
   "metadata": {
    "heading_collapsed": true
   },
   "source": [
    "#### AdaBoost"
   ]
  },
  {
   "cell_type": "code",
   "execution_count": 17,
   "metadata": {
    "ExecuteTime": {
     "end_time": "2020-01-15T20:20:46.059599Z",
     "start_time": "2020-01-15T20:20:19.963832Z"
    },
    "hidden": true
   },
   "outputs": [
    {
     "name": "stdout",
     "output_type": "stream",
     "text": [
      "Fitting 5 folds for each of 18 candidates, totalling 90 fits\n"
     ]
    },
    {
     "name": "stderr",
     "output_type": "stream",
     "text": [
      "[Parallel(n_jobs=-1)]: Using backend LokyBackend with 8 concurrent workers.\n",
      "[Parallel(n_jobs=-1)]: Done  90 out of  90 | elapsed:   25.0s finished\n"
     ]
    },
    {
     "name": "stdout",
     "output_type": "stream",
     "text": [
      "Best params: {'base_estimator': RandomForestClassifier(bootstrap=True, class_weight=None, criterion='gini',\n",
      "                       max_depth=7, max_features=3, max_leaf_nodes=None,\n",
      "                       min_impurity_decrease=0.0, min_impurity_split=None,\n",
      "                       min_samples_leaf=16, min_samples_split=2,\n",
      "                       min_weight_fraction_leaf=0.0, n_estimators=100,\n",
      "                       n_jobs=None, oob_score=False, random_state=None,\n",
      "                       verbose=0, warm_start=False), 'learning_rate': 0.1, 'n_estimators': 5}\n",
      "Train score: 0.795\n",
      "Test score: 0.806\n"
     ]
    }
   ],
   "source": [
    "grid_ada = {'base_estimator': [DecisionTreeClassifier(criterion='gini', max_depth=4,\n",
    "                                                      max_features=8, min_samples_leaf=2,\n",
    "                                                      min_samples_split=2),\n",
    "                               RandomForestClassifier(criterion='gini', max_depth=7,\n",
    "                                                      max_features=3, min_samples_leaf=16,\n",
    "                                                      min_samples_split=2, n_estimators=100)],\n",
    "            'n_estimators': [1, 5, 10],\n",
    "            'learning_rate': [0.01, 0.1, 0.5]}\n",
    "\n",
    "gs_ada = run_gridsearch(AdaBoostClassifier, grid_ada,\n",
    "                        X_train, X_test,\n",
    "                        y_train, y_test, random_state=220)"
   ]
  },
  {
   "cell_type": "markdown",
   "metadata": {
    "heading_collapsed": true
   },
   "source": [
    "#### Gradient Boost"
   ]
  },
  {
   "cell_type": "code",
   "execution_count": 9,
   "metadata": {
    "ExecuteTime": {
     "end_time": "2020-01-15T20:16:10.717676Z",
     "start_time": "2020-01-15T20:16:03.106749Z"
    },
    "hidden": true
   },
   "outputs": [
    {
     "name": "stdout",
     "output_type": "stream",
     "text": [
      "Fitting 5 folds for each of 81 candidates, totalling 405 fits\n"
     ]
    },
    {
     "name": "stderr",
     "output_type": "stream",
     "text": [
      "[Parallel(n_jobs=-1)]: Using backend LokyBackend with 8 concurrent workers.\n",
      "[Parallel(n_jobs=-1)]: Done  34 tasks      | elapsed:    0.8s\n",
      "[Parallel(n_jobs=-1)]: Done 184 tasks      | elapsed:    3.8s\n"
     ]
    },
    {
     "name": "stdout",
     "output_type": "stream",
     "text": [
      "Best params: {'learning_rate': 0.05, 'max_depth': 6, 'max_features': 0.3, 'min_samples_leaf': 150}\n",
      "Train score: 0.798\n",
      "Test score: 0.796\n"
     ]
    },
    {
     "name": "stderr",
     "output_type": "stream",
     "text": [
      "[Parallel(n_jobs=-1)]: Done 405 out of 405 | elapsed:    7.5s finished\n"
     ]
    }
   ],
   "source": [
    "grid_gb = {'learning_rate': [0.1, 0.05, 0.01],\n",
    "           'max_depth': [5, 6, 7],\n",
    "           'min_samples_leaf': [100, 150, 200],\n",
    "           'max_features': [1.0, 0.3, 0.1]}\n",
    "\n",
    "gs_gb = run_gridsearch(GradientBoostingClassifier, grid_gb,\n",
    "                       X_train, X_test,\n",
    "                       y_train, y_test, random_state=220)"
   ]
  },
  {
   "cell_type": "markdown",
   "metadata": {
    "heading_collapsed": true
   },
   "source": [
    "#### XGBoost"
   ]
  },
  {
   "cell_type": "code",
   "execution_count": 18,
   "metadata": {
    "ExecuteTime": {
     "end_time": "2020-01-15T20:21:21.016860Z",
     "start_time": "2020-01-15T20:20:46.061528Z"
    },
    "hidden": true,
    "scrolled": true
   },
   "outputs": [
    {
     "name": "stdout",
     "output_type": "stream",
     "text": [
      "Fitting 5 folds for each of 243 candidates, totalling 1215 fits\n"
     ]
    },
    {
     "name": "stderr",
     "output_type": "stream",
     "text": [
      "[Parallel(n_jobs=-1)]: Using backend LokyBackend with 8 concurrent workers.\n",
      "[Parallel(n_jobs=-1)]: Done  52 tasks      | elapsed:    1.8s\n",
      "[Parallel(n_jobs=-1)]: Done 352 tasks      | elapsed:    9.9s\n",
      "[Parallel(n_jobs=-1)]: Done 852 tasks      | elapsed:   23.2s\n",
      "[Parallel(n_jobs=-1)]: Done 1200 out of 1215 | elapsed:   34.2s remaining:    0.4s\n",
      "[Parallel(n_jobs=-1)]: Done 1215 out of 1215 | elapsed:   34.7s finished\n"
     ]
    },
    {
     "name": "stdout",
     "output_type": "stream",
     "text": [
      "Best params: {'learning_rate': 0.05, 'max_depth': 3, 'min_child_weight': 16, 'n_estimators': 150, 'subsample': 1}\n",
      "Train score: 0.798\n",
      "Test score: 0.809\n"
     ]
    }
   ],
   "source": [
    "grid_boost = {\"learning_rate\": [0.01, 0.05, 0.1],\n",
    "              'max_depth': [2, 3, 4],\n",
    "              'min_child_weight': [15, 16, 17],\n",
    "              'subsample': [0.2, 0.7, 1],\n",
    "              'n_estimators': [140, 150, 160]}\n",
    "\n",
    "gs_boost = run_gridsearch(xgb.XGBClassifier, grid_boost,\n",
    "                          X_train, X_test,\n",
    "                          y_train, y_test, random_state=220)"
   ]
  },
  {
   "cell_type": "markdown",
   "metadata": {},
   "source": [
    "#### LightGBM"
   ]
  },
  {
   "cell_type": "code",
   "execution_count": 49,
   "metadata": {
    "ExecuteTime": {
     "end_time": "2020-01-15T20:48:24.268155Z",
     "start_time": "2020-01-15T20:48:13.411497Z"
    },
    "scrolled": false
   },
   "outputs": [
    {
     "name": "stdout",
     "output_type": "stream",
     "text": [
      "Fitting 5 folds for each of 243 candidates, totalling 1215 fits\n"
     ]
    },
    {
     "name": "stderr",
     "output_type": "stream",
     "text": [
      "[Parallel(n_jobs=-1)]: Using backend LokyBackend with 8 concurrent workers.\n",
      "[Parallel(n_jobs=-1)]: Done 160 tasks      | elapsed:    1.6s\n"
     ]
    },
    {
     "name": "stdout",
     "output_type": "stream",
     "text": [
      "Best params: {'learning_rate': 0.05, 'max_depth': 2, 'min_child_weight': 17, 'n_estimators': 160, 'subsample': 0.2}\n",
      "Train score: 0.794\n",
      "Test score: 0.817\n"
     ]
    },
    {
     "name": "stderr",
     "output_type": "stream",
     "text": [
      "[Parallel(n_jobs=-1)]: Done 1200 out of 1215 | elapsed:   10.7s remaining:    0.1s\n",
      "[Parallel(n_jobs=-1)]: Done 1215 out of 1215 | elapsed:   10.7s finished\n"
     ]
    }
   ],
   "source": [
    "grid_lgb = {'learning_rate': [0.01, 0.05, 0.1],\n",
    "            'max_depth': [2, 3, 4],\n",
    "            'min_child_weight': [15, 16, 17],\n",
    "            'subsample': [0.2, 0.7, 1],\n",
    "            'n_estimators': [140, 150, 160]}\n",
    "\n",
    "gs_lgb = run_gridsearch(lgb.LGBMClassifier, grid_lgb,\n",
    "                        X_train, X_test,\n",
    "                        y_train, y_test, random_state=220)\n",
    "\n",
    "pickle.dump(gs_lgb, open('models/cannabis_boost.sav', 'wb'))"
   ]
  },
  {
   "cell_type": "markdown",
   "metadata": {
    "heading_collapsed": true
   },
   "source": [
    "### KNN"
   ]
  },
  {
   "cell_type": "code",
   "execution_count": 11,
   "metadata": {
    "ExecuteTime": {
     "end_time": "2020-01-15T20:16:43.388037Z",
     "start_time": "2020-01-15T20:16:43.195467Z"
    },
    "hidden": true,
    "scrolled": true
   },
   "outputs": [
    {
     "name": "stdout",
     "output_type": "stream",
     "text": [
      "Fitting 5 folds for each of 3 candidates, totalling 15 fits\n",
      "Best params: {'n_neighbors': 27}\n",
      "Train score: 0.786\n",
      "Test score: 0.785\n"
     ]
    },
    {
     "name": "stderr",
     "output_type": "stream",
     "text": [
      "[Parallel(n_jobs=-1)]: Using backend LokyBackend with 8 concurrent workers.\n",
      "[Parallel(n_jobs=-1)]: Done  15 out of  15 | elapsed:    0.1s finished\n"
     ]
    }
   ],
   "source": [
    "grid_knn = {'n_neighbors': [26, 27, 28]}\n",
    "\n",
    "gs_knn = run_gridsearch_scaled(KNeighborsClassifier, grid_knn,\n",
    "                               X_train_scale, X_test_scale,\n",
    "                               y_train, y_test)"
   ]
  },
  {
   "cell_type": "markdown",
   "metadata": {
    "heading_collapsed": true
   },
   "source": [
    "### SVM"
   ]
  },
  {
   "cell_type": "code",
   "execution_count": 12,
   "metadata": {
    "ExecuteTime": {
     "end_time": "2020-01-15T20:16:48.898313Z",
     "start_time": "2020-01-15T20:16:43.390488Z"
    },
    "hidden": true
   },
   "outputs": [
    {
     "name": "stdout",
     "output_type": "stream",
     "text": [
      "Fitting 5 folds for each of 27 candidates, totalling 135 fits\n"
     ]
    },
    {
     "name": "stderr",
     "output_type": "stream",
     "text": [
      "[Parallel(n_jobs=-1)]: Using backend LokyBackend with 8 concurrent workers.\n",
      "[Parallel(n_jobs=-1)]: Done  52 tasks      | elapsed:    1.4s\n",
      "[Parallel(n_jobs=-1)]: Done 120 out of 135 | elapsed:    4.6s remaining:    0.6s\n"
     ]
    },
    {
     "name": "stdout",
     "output_type": "stream",
     "text": [
      "Best params: {'C': 1, 'degree': 2, 'kernel': 'linear'}\n",
      "Train score: 0.794\n",
      "Test score: 0.798\n"
     ]
    },
    {
     "name": "stderr",
     "output_type": "stream",
     "text": [
      "[Parallel(n_jobs=-1)]: Done 135 out of 135 | elapsed:    5.3s finished\n"
     ]
    }
   ],
   "source": [
    "grid_svm = {'C': [0.1, 1, 10],\n",
    "            'kernel': ['linear', 'rbf', 'poly'],\n",
    "            'degree': [2, 3, 4]}\n",
    "\n",
    "gs_svm = run_gridsearch_scaled('SVM', grid_svm,\n",
    "                               X_train_scale, X_test_scale,\n",
    "                               y_train, y_test, random_state=220)"
   ]
  },
  {
   "cell_type": "markdown",
   "metadata": {},
   "source": [
    "## Findings"
   ]
  },
  {
   "cell_type": "markdown",
   "metadata": {},
   "source": [
    "### ROC Curve\n",
    "\n",
    "We used Receiver Operating Characteristic (ROC) curves and the Area Under the Curve (AUC) scores to compare which classification method performed the best. The ROC curve shows the ratio of True Positive and False Positive rates. The perfect model (red dotted line) would show an AUC of 1 and a ROC curve that looks like an upside-down 'L', because the perfect model would show 100% True Positives. The black dotted line shows the ROC curve of a random guess."
   ]
  },
  {
   "cell_type": "code",
   "execution_count": 47,
   "metadata": {
    "ExecuteTime": {
     "end_time": "2020-01-15T20:47:33.479019Z",
     "start_time": "2020-01-15T20:47:32.913571Z"
    },
    "scrolled": true
   },
   "outputs": [
    {
     "data": {
      "image/png": "[encoded data removed]",
      "text/plain": [
       "<Figure size 720x576 with 1 Axes>"
      ]
     },
     "metadata": {
      "needs_background": "light"
     },
     "output_type": "display_data"
    }
   ],
   "source": [
    "models = [gs_ada, gs_boost, gs_forest, gs_gb, gs_lgb,\n",
    "          gs_log, gs_tree, gs_knn, gs_svm]\n",
    "\n",
    "model_names = ['AdaBoost', 'XGBoost', 'RandomForest',\n",
    "               'Gradient Boosting', 'LightGBM',\n",
    "               'Logistic Regression', 'DecisionTree',\n",
    "               'KNN', 'SVM']\n",
    "\n",
    "plot_roc_curve(models, model_names, X_test, y_test, 'Cannabis', X_test_scale)"
   ]
  },
  {
   "cell_type": "markdown",
   "metadata": {},
   "source": [
    "The AUC scores of all of the models, except for DecisionTree, were very similar as you can see in the legend. DecisionTree performed the worst out of the eight models above. Because the above graph does not clearly show the differences in models, I created another graph below to show just three graphs (best, middle, and worst performing models)."
   ]
  },
  {
   "cell_type": "code",
   "execution_count": 48,
   "metadata": {
    "ExecuteTime": {
     "end_time": "2020-01-15T20:47:52.505864Z",
     "start_time": "2020-01-15T20:47:51.981682Z"
    },
    "scrolled": true
   },
   "outputs": [
    {
     "data": {
      "image/png": "[encoded data removed]",
      "text/plain": [
       "<Figure size 720x576 with 1 Axes>"
      ]
     },
     "metadata": {
      "needs_background": "light"
     },
     "output_type": "display_data"
    }
   ],
   "source": [
    "names = ['DecisionTree', 'KNN', 'LightGBM']\n",
    "\n",
    "plot_roc_curve([gs_tree, gs_knn, gs_lgb],\n",
    "               names, X_test, y_test,\n",
    "               'Cannabis', X_test_scale)\n",
    "\n",
    "plt.savefig('img/cannabis_roc.png', bbox_inches='tight')"
   ]
  },
  {
   "cell_type": "markdown",
   "metadata": {},
   "source": [
    "### Interpreting LightGBM Results\n",
    "\n",
    "I chose to focus on the LightGBM model to analyze the accuracy of predictions and which features are most important in predicting Cannabis users."
   ]
  },
  {
   "cell_type": "code",
   "execution_count": 5,
   "metadata": {
    "ExecuteTime": {
     "end_time": "2020-01-27T20:50:26.178813Z",
     "start_time": "2020-01-27T20:50:26.106760Z"
    }
   },
   "outputs": [],
   "source": [
    "gs_lgb = pickle.load(open('models/cannabis_boost.sav', 'rb'))"
   ]
  },
  {
   "cell_type": "markdown",
   "metadata": {},
   "source": [
    "#### Confusion Matrix\n",
    "\n",
    "The confusion matrix below shows the percent accuracy of predictions. The LightGBM model was 81.7% accurate in predicting whether a person was a user (60%) or a nonuser (21%)."
   ]
  },
  {
   "cell_type": "code",
   "execution_count": 8,
   "metadata": {
    "ExecuteTime": {
     "end_time": "2020-01-27T20:50:37.592691Z",
     "start_time": "2020-01-27T20:50:37.300612Z"
    },
    "scrolled": true
   },
   "outputs": [
    {
     "data": {
      "image/png": "[encoded data removed]",
      "text/plain": [
       "<Figure size 576x360 with 1 Axes>"
      ]
     },
     "metadata": {
      "needs_background": "light"
     },
     "output_type": "display_data"
    }
   ],
   "source": [
    "plot_confusion_matrix(y_test, X_test, gs_lgb, 'Cannabis')\n",
    "plt.savefig('img/cannabis_matrix.png', bbox_inches='tight');"
   ]
  },
  {
   "cell_type": "markdown",
   "metadata": {},
   "source": [
    "#### Important Features in Predicting Cannabis Users"
   ]
  },
  {
   "cell_type": "code",
   "execution_count": 7,
   "metadata": {
    "ExecuteTime": {
     "end_time": "2020-01-27T20:50:30.451600Z",
     "start_time": "2020-01-27T20:50:30.134567Z"
    },
    "scrolled": true
   },
   "outputs": [
    {
     "data": {
      "image/png": "[encoded data removed]",
      "text/plain": [
       "<Figure size 576x576 with 1 Axes>"
      ]
     },
     "metadata": {
      "needs_background": "light"
     },
     "output_type": "display_data"
    }
   ],
   "source": [
    "plot_feat_imp(gs_lgb, X_train, 'Cannabis')"
   ]
  },
  {
   "cell_type": "markdown",
   "metadata": {},
   "source": [
    "## Conclusion\n",
    "\n",
    "Based on the 9 classification models, their demographics (age, gender, and education level) and their personalities had accuracy levels of 79-82% in predicting Cannabis users. Age and openness to experience were the 2 most influential in predicting Cannabis consumption."
   ]
  }
 ],
 "metadata": {
  "kernelspec": {
   "display_name": "Python 3",
   "language": "python",
   "name": "python3"
  },
  "language_info": {
   "codemirror_mode": {
    "name": "ipython",
    "version": 3
   },
   "file_extension": ".py",
   "mimetype": "text/x-python",
   "name": "python",
   "nbconvert_exporter": "python",
   "pygments_lexer": "ipython3",
   "version": "3.7.3"
  },
  "toc": {
   "base_numbering": 1,
   "nav_menu": {},
   "number_sections": true,
   "sideBar": true,
   "skip_h1_title": false,
   "title_cell": "Table of Contents",
   "title_sidebar": "Contents",
   "toc_cell": false,
   "toc_position": {},
   "toc_section_display": true,
   "toc_window_display": false
  }
 },
 "nbformat": 4,
 "nbformat_minor": 2
}
