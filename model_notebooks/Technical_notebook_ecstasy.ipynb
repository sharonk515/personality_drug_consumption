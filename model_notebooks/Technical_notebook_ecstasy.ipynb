{
 "cells": [
  {
   "cell_type": "markdown",
   "metadata": {},
   "source": [
    "# Technical notebook - Ecstasy usage prediction"
   ]
  },
  {
   "cell_type": "markdown",
   "metadata": {},
   "source": [
    "**What is Ecstasy?**\n",
    "https://adf.org.au/drug-facts/mdma/\n",
    "\n",
    "Ecstasy is the common name of MDMA. However, some pills sold as ecstasy may only have a small amount of MDMA or none at all. Other drugs and ‘fillers’ are often used instead. This makes it hard to know what reactions to expect after taking MDMA or if negative side effects will be experienced.\n",
    "\n",
    "Methylenedioxymethamphetamine (MDMA) is an an empathogen, which means it increases an individual’s feeling of empathy and compassion towards others.\n",
    "\n",
    "**Other names**\n",
    "Ecstasy, Eckies, E, XTC, pills, pingers, bikkies, flippers, molly.1\n",
    "\n",
    "**How is MDMA used?**\n",
    "MDMA usually comes in a tablet form and is swallowed. The pills come in different colours and sizes and are often imprinted with a picture or symbol.1 It can also come as capsules, powder or crystal.\n",
    "\n",
    "**Effects of MDMA**\n",
    "\n",
    "- euphoria\n",
    "- feeling energetic and confident\n",
    "- large pupils\n",
    "- jaw clenching and teeth grinding\n",
    "- heightened senses (sight, hearing and touch)\n",
    "- excessive sweating and skin tingles\n",
    "- muscle aches and pains\n",
    "- reduced appetite\n",
    "- fast heartbeat\n",
    "- increased blood pressure\n",
    "- dehydration\n",
    "- heat stroke\n",
    "- drinking extreme amounts of water (can cause death)\n",
    "\n",
    "**Long term effects**\n",
    "\n",
    "- colds or flu\n",
    "- depression\n",
    "- needing to use more to get the same effect\n",
    "- dependence on MDMA\n",
    "- memory and concentration problems\n",
    "- financial, work and social problems\n",
    "\n",
    "**Withdrawal**\n",
    "Giving up MDMA after using it for a long time is challenging because the body has to get used to functioning without it. Withdrawal symptoms should settle down after a week and will mostly disappear after a month. "
   ]
  },
  {
   "cell_type": "markdown",
   "metadata": {},
   "source": [
    "## Research question: is it possible to predict from demographic and personality features that somebody becomes an ecstasy user?"
   ]
  },
  {
   "cell_type": "markdown",
   "metadata": {},
   "source": [
    "### Importing the necessary libraries"
   ]
  },
  {
   "cell_type": "code",
   "execution_count": 1,
   "metadata": {
    "ExecuteTime": {
     "end_time": "2019-11-07T02:34:40.080722Z",
     "start_time": "2019-11-07T02:34:36.907574Z"
    }
   },
   "outputs": [
    {
     "data": {
      "text/html": [
       "        <script type=\"text/javascript\">\n",
       "        window.PlotlyConfig = {MathJaxConfig: 'local'};\n",
       "        if (window.MathJax) {MathJax.Hub.Config({SVG: {font: \"STIX-Web\"}});}\n",
       "        if (typeof require !== 'undefined') {\n",
       "        require.undef(\"plotly\");\n",
       "        requirejs.config({\n",
       "            paths: {\n",
       "                'plotly': ['https://cdn.plot.ly/plotly-latest.min']\n",
       "            }\n",
       "        });\n",
       "        require(['plotly'], function(Plotly) {\n",
       "            window._Plotly = Plotly;\n",
       "        });\n",
       "        }\n",
       "        </script>\n",
       "        "
      ]
     },
     "metadata": {},
     "output_type": "display_data"
    }
   ],
   "source": [
    "import pandas as pd\n",
    "import numpy as np\n",
    "import pickle\n",
    "\n",
    "import warnings\n",
    "warnings.filterwarnings(\"ignore\")\n",
    "\n",
    "# libraries for cleaning and preprocessing data\n",
    "from sklearn.preprocessing import StandardScaler\n",
    "\n",
    "# libraries for modeling\n",
    "from sklearn.model_selection import train_test_split\n",
    "from sklearn.model_selection import GridSearchCV\n",
    "from sklearn.tree import DecisionTreeClassifier\n",
    "from sklearn.ensemble import AdaBoostClassifier, RandomForestClassifier, GradientBoostingClassifier\n",
    "from sklearn.linear_model import LogisticRegression\n",
    "from sklearn.neighbors import KNeighborsClassifier\n",
    "from sklearn.svm import SVC\n",
    "import xgboost as xgb\n",
    "import lightgbm as lgb\n",
    "\n",
    "# libraries for evaluating models\n",
    "from sklearn.metrics import confusion_matrix\n",
    "from sklearn.metrics import roc_curve, roc_auc_score\n",
    "\n",
    "# libraries for visualizations\n",
    "import matplotlib.pyplot as plt\n",
    "import seaborn as sns\n",
    "%matplotlib inline\n",
    "from visualizations import *\n",
    "from modeling import *\n",
    "\n",
    "%load_ext autoreload\n",
    "%autoreload 2"
   ]
  },
  {
   "cell_type": "markdown",
   "metadata": {},
   "source": [
    "## 1. Preprocessing"
   ]
  },
  {
   "cell_type": "markdown",
   "metadata": {},
   "source": [
    "### Upload the datafile"
   ]
  },
  {
   "cell_type": "code",
   "execution_count": 5,
   "metadata": {
    "ExecuteTime": {
     "end_time": "2019-11-07T02:35:20.239309Z",
     "start_time": "2019-11-07T02:35:20.180791Z"
    }
   },
   "outputs": [],
   "source": [
    "data = pd.read_csv('data/ecstasy.csv')"
   ]
  },
  {
   "cell_type": "markdown",
   "metadata": {},
   "source": [
    "### Feature and target variables"
   ]
  },
  {
   "cell_type": "code",
   "execution_count": 6,
   "metadata": {
    "ExecuteTime": {
     "end_time": "2019-11-07T02:35:21.560158Z",
     "start_time": "2019-11-07T02:35:21.508505Z"
    }
   },
   "outputs": [],
   "source": [
    "y = data.User\n",
    "X = data.drop(['User'], axis=1)"
   ]
  },
  {
   "cell_type": "code",
   "execution_count": 7,
   "metadata": {
    "ExecuteTime": {
     "end_time": "2019-11-07T02:35:25.080460Z",
     "start_time": "2019-11-07T02:35:25.028567Z"
    }
   },
   "outputs": [
    {
     "data": {
      "text/plain": [
       "Index(['Age', 'Gender', 'Education', 'Neuroticism', 'Extraversion',\n",
       "       'Openness to experience', 'Agreeableness', 'Conscientiousness',\n",
       "       'Impusivity', 'Sensation-seeking'],\n",
       "      dtype='object')"
      ]
     },
     "execution_count": 7,
     "metadata": {},
     "output_type": "execute_result"
    }
   ],
   "source": [
    "X.columns"
   ]
  },
  {
   "cell_type": "markdown",
   "metadata": {},
   "source": [
    "### Train test split"
   ]
  },
  {
   "cell_type": "code",
   "execution_count": 8,
   "metadata": {
    "ExecuteTime": {
     "end_time": "2019-11-07T02:35:32.625533Z",
     "start_time": "2019-11-07T02:35:32.566853Z"
    }
   },
   "outputs": [],
   "source": [
    "X_train, X_test, y_train, y_test = train_test_split(X, y, test_size=0.2, random_state=220, stratify=y)"
   ]
  },
  {
   "cell_type": "code",
   "execution_count": 9,
   "metadata": {
    "ExecuteTime": {
     "end_time": "2019-11-07T02:35:34.443646Z",
     "start_time": "2019-11-07T02:35:34.388679Z"
    }
   },
   "outputs": [
    {
     "data": {
      "text/plain": [
       "0.39854111405835546"
      ]
     },
     "execution_count": 9,
     "metadata": {},
     "output_type": "execute_result"
    }
   ],
   "source": [
    "y_train.mean()"
   ]
  },
  {
   "cell_type": "markdown",
   "metadata": {},
   "source": [
    "### Scaling"
   ]
  },
  {
   "cell_type": "code",
   "execution_count": 10,
   "metadata": {
    "ExecuteTime": {
     "end_time": "2019-11-07T02:35:37.300488Z",
     "start_time": "2019-11-07T02:35:37.235931Z"
    }
   },
   "outputs": [],
   "source": [
    "scaler = StandardScaler()\n",
    "X_train_scaled = X_train\n",
    "scaler.fit(X_train_scaled[['Age', 'Education']])\n",
    "X_train_scaled[['Age', 'Education']] = scaler.transform(X_train_scaled[['Age', 'Education']])"
   ]
  },
  {
   "cell_type": "code",
   "execution_count": 11,
   "metadata": {
    "ExecuteTime": {
     "end_time": "2019-11-07T02:35:38.467499Z",
     "start_time": "2019-11-07T02:35:38.407542Z"
    }
   },
   "outputs": [
    {
     "data": {
      "text/html": [
       "<div>\n",
       "<style scoped>\n",
       "    .dataframe tbody tr th:only-of-type {\n",
       "        vertical-align: middle;\n",
       "    }\n",
       "\n",
       "    .dataframe tbody tr th {\n",
       "        vertical-align: top;\n",
       "    }\n",
       "\n",
       "    .dataframe thead th {\n",
       "        text-align: right;\n",
       "    }\n",
       "</style>\n",
       "<table border=\"1\" class=\"dataframe\">\n",
       "  <thead>\n",
       "    <tr style=\"text-align: right;\">\n",
       "      <th></th>\n",
       "      <th>Age</th>\n",
       "      <th>Gender</th>\n",
       "      <th>Education</th>\n",
       "      <th>Neuroticism</th>\n",
       "      <th>Extraversion</th>\n",
       "      <th>Openness to experience</th>\n",
       "      <th>Agreeableness</th>\n",
       "      <th>Conscientiousness</th>\n",
       "      <th>Impusivity</th>\n",
       "      <th>Sensation-seeking</th>\n",
       "    </tr>\n",
       "  </thead>\n",
       "  <tbody>\n",
       "    <tr>\n",
       "      <th>116</th>\n",
       "      <td>0.499858</td>\n",
       "      <td>1</td>\n",
       "      <td>0.009691</td>\n",
       "      <td>0.62967</td>\n",
       "      <td>-0.57545</td>\n",
       "      <td>0.14143</td>\n",
       "      <td>-1.77200</td>\n",
       "      <td>-0.40581</td>\n",
       "      <td>0.52975</td>\n",
       "      <td>-0.21575</td>\n",
       "    </tr>\n",
       "    <tr>\n",
       "      <th>965</th>\n",
       "      <td>-1.051141</td>\n",
       "      <td>0</td>\n",
       "      <td>-0.552366</td>\n",
       "      <td>-0.24649</td>\n",
       "      <td>0.16767</td>\n",
       "      <td>1.88511</td>\n",
       "      <td>1.45039</td>\n",
       "      <td>-0.40581</td>\n",
       "      <td>1.29221</td>\n",
       "      <td>1.22470</td>\n",
       "    </tr>\n",
       "  </tbody>\n",
       "</table>\n",
       "</div>"
      ],
      "text/plain": [
       "          Age  Gender  Education  Neuroticism  Extraversion  \\\n",
       "116  0.499858       1   0.009691      0.62967      -0.57545   \n",
       "965 -1.051141       0  -0.552366     -0.24649       0.16767   \n",
       "\n",
       "     Openness to experience  Agreeableness  Conscientiousness  Impusivity  \\\n",
       "116                 0.14143       -1.77200           -0.40581     0.52975   \n",
       "965                 1.88511        1.45039           -0.40581     1.29221   \n",
       "\n",
       "     Sensation-seeking  \n",
       "116           -0.21575  \n",
       "965            1.22470  "
      ]
     },
     "execution_count": 11,
     "metadata": {},
     "output_type": "execute_result"
    }
   ],
   "source": [
    "X_train_scaled.head(2)"
   ]
  },
  {
   "cell_type": "code",
   "execution_count": 12,
   "metadata": {
    "ExecuteTime": {
     "end_time": "2019-11-07T02:35:40.224417Z",
     "start_time": "2019-11-07T02:35:40.171024Z"
    }
   },
   "outputs": [],
   "source": [
    "X_test_scaled = X_test\n",
    "X_test_scaled[['Age', 'Education']] = scaler.transform(X_test_scaled[['Age', 'Education']])"
   ]
  },
  {
   "cell_type": "code",
   "execution_count": 13,
   "metadata": {
    "ExecuteTime": {
     "end_time": "2019-11-07T02:35:41.045266Z",
     "start_time": "2019-11-07T02:35:40.993191Z"
    }
   },
   "outputs": [
    {
     "data": {
      "text/plain": [
       "array([1.35543767, 4.98275862])"
      ]
     },
     "execution_count": 13,
     "metadata": {},
     "output_type": "execute_result"
    }
   ],
   "source": [
    "scaler.mean_"
   ]
  },
  {
   "cell_type": "code",
   "execution_count": 14,
   "metadata": {
    "ExecuteTime": {
     "end_time": "2019-11-07T02:35:41.572620Z",
     "start_time": "2019-11-07T02:35:41.519872Z"
    }
   },
   "outputs": [
    {
     "data": {
      "text/plain": [
       "array([1.66278873, 3.16548523])"
      ]
     },
     "execution_count": 14,
     "metadata": {},
     "output_type": "execute_result"
    }
   ],
   "source": [
    "scaler.var_"
   ]
  },
  {
   "cell_type": "markdown",
   "metadata": {},
   "source": [
    "## 2. Modeling"
   ]
  },
  {
   "cell_type": "markdown",
   "metadata": {},
   "source": [
    "We were comparing the following models:\n",
    "    - Logistic regression\n",
    "    - Decesion tree\n",
    "    - Random forest\n",
    "    - Gradient boosting\n",
    "    - XGBoosting\n",
    "    - K Nearest Neighbors\n",
    "    - Support Vector Machine\n",
    "\n",
    "To select the best performing parameters we were applying gridsearch.\n",
    "\n",
    "Every model is tested on the test set. Big difference between 'Best score' and 'Test score' implies overfitting of the model."
   ]
  },
  {
   "cell_type": "markdown",
   "metadata": {},
   "source": [
    "\n",
    "## 2.1. Logistic regression"
   ]
  },
  {
   "cell_type": "code",
   "execution_count": 18,
   "metadata": {
    "ExecuteTime": {
     "end_time": "2019-11-07T02:38:55.766367Z",
     "start_time": "2019-11-07T02:38:55.485159Z"
    }
   },
   "outputs": [
    {
     "name": "stdout",
     "output_type": "stream",
     "text": [
      "Fitting 5 folds for each of 14 candidates, totalling 70 fits\n"
     ]
    },
    {
     "name": "stderr",
     "output_type": "stream",
     "text": [
      "[Parallel(n_jobs=-1)]: Using backend LokyBackend with 8 concurrent workers.\n"
     ]
    },
    {
     "name": "stdout",
     "output_type": "stream",
     "text": [
      "Best params: {'C': 0.01, 'penalty': 'l2'}\n",
      "Train score: 0.749\n",
      "Test score: 0.732\n"
     ]
    },
    {
     "name": "stderr",
     "output_type": "stream",
     "text": [
      "[Parallel(n_jobs=-1)]: Done  70 out of  70 | elapsed:    0.2s finished\n"
     ]
    }
   ],
   "source": [
    "params = {'C': np.logspace(-2, 4, 7),\n",
    "          'penalty' : ['l1','l2']}\n",
    "\n",
    "log_grid = run_gridsearch_scaled(LogisticRegression, params,\n",
    "                               X_train_scaled, X_test_scaled,\n",
    "                               y_train, y_test, random_state=123)"
   ]
  },
  {
   "cell_type": "code",
   "execution_count": 18,
   "metadata": {},
   "outputs": [
    {
     "data": {
      "text/html": [
       "<div>\n",
       "<style scoped>\n",
       "    .dataframe tbody tr th:only-of-type {\n",
       "        vertical-align: middle;\n",
       "    }\n",
       "\n",
       "    .dataframe tbody tr th {\n",
       "        vertical-align: top;\n",
       "    }\n",
       "\n",
       "    .dataframe thead th {\n",
       "        text-align: right;\n",
       "    }\n",
       "</style>\n",
       "<table border=\"1\" class=\"dataframe\">\n",
       "  <thead>\n",
       "    <tr style=\"text-align: right;\">\n",
       "      <th></th>\n",
       "      <th>Feature</th>\n",
       "      <th>Coef</th>\n",
       "    </tr>\n",
       "  </thead>\n",
       "  <tbody>\n",
       "    <tr>\n",
       "      <th>0</th>\n",
       "      <td>Age</td>\n",
       "      <td>-0.505322</td>\n",
       "    </tr>\n",
       "    <tr>\n",
       "      <th>7</th>\n",
       "      <td>Conscientiousness</td>\n",
       "      <td>-0.182681</td>\n",
       "    </tr>\n",
       "    <tr>\n",
       "      <th>2</th>\n",
       "      <td>Education</td>\n",
       "      <td>-0.168978</td>\n",
       "    </tr>\n",
       "    <tr>\n",
       "      <th>6</th>\n",
       "      <td>Agreeableness</td>\n",
       "      <td>-0.082988</td>\n",
       "    </tr>\n",
       "    <tr>\n",
       "      <th>3</th>\n",
       "      <td>Neuroticism</td>\n",
       "      <td>0.034934</td>\n",
       "    </tr>\n",
       "    <tr>\n",
       "      <th>4</th>\n",
       "      <td>Extraversion</td>\n",
       "      <td>0.047621</td>\n",
       "    </tr>\n",
       "    <tr>\n",
       "      <th>8</th>\n",
       "      <td>Impulsiveness</td>\n",
       "      <td>0.075002</td>\n",
       "    </tr>\n",
       "    <tr>\n",
       "      <th>1</th>\n",
       "      <td>Gender</td>\n",
       "      <td>0.106554</td>\n",
       "    </tr>\n",
       "    <tr>\n",
       "      <th>5</th>\n",
       "      <td>Openness</td>\n",
       "      <td>0.333606</td>\n",
       "    </tr>\n",
       "    <tr>\n",
       "      <th>9</th>\n",
       "      <td>Sensation-seeking</td>\n",
       "      <td>0.388443</td>\n",
       "    </tr>\n",
       "  </tbody>\n",
       "</table>\n",
       "</div>"
      ],
      "text/plain": [
       "             Feature      Coef\n",
       "0                Age -0.505322\n",
       "7  Conscientiousness -0.182681\n",
       "2          Education -0.168978\n",
       "6      Agreeableness -0.082988\n",
       "3        Neuroticism  0.034934\n",
       "4       Extraversion  0.047621\n",
       "8      Impulsiveness  0.075002\n",
       "1             Gender  0.106554\n",
       "5           Openness  0.333606\n",
       "9  Sensation-seeking  0.388443"
      ]
     },
     "execution_count": 18,
     "metadata": {},
     "output_type": "execute_result"
    }
   ],
   "source": [
    "coefs = pd.DataFrame(zip(X.columns, log_grid.best_estimator_.coef_[0]), columns=['Feature', 'Coef'])\n",
    "coefs.sort_values(by='Coef')"
   ]
  },
  {
   "cell_type": "markdown",
   "metadata": {},
   "source": [
    "## 2.2. Decision tree"
   ]
  },
  {
   "cell_type": "code",
   "execution_count": 22,
   "metadata": {
    "ExecuteTime": {
     "end_time": "2019-11-07T02:40:33.501328Z",
     "start_time": "2019-11-07T02:40:32.305222Z"
    }
   },
   "outputs": [
    {
     "name": "stdout",
     "output_type": "stream",
     "text": [
      "Fitting 5 folds for each of 160 candidates, totalling 800 fits\n"
     ]
    },
    {
     "name": "stderr",
     "output_type": "stream",
     "text": [
      "[Parallel(n_jobs=-1)]: Using backend LokyBackend with 8 concurrent workers.\n"
     ]
    },
    {
     "name": "stdout",
     "output_type": "stream",
     "text": [
      "Best params: {'criterion': 'gini', 'max_depth': 4, 'min_impurity_split': 0.2, 'min_samples_split': 40}\n",
      "Train score: 0.735\n",
      "Test score: 0.727\n"
     ]
    },
    {
     "name": "stderr",
     "output_type": "stream",
     "text": [
      "[Parallel(n_jobs=-1)]: Done 800 out of 800 | elapsed:    1.1s finished\n"
     ]
    }
   ],
   "source": [
    "params = {'criterion': ['gini', 'entropy'],\n",
    "          'max_depth': [3, 4, 5, 6, 7],\n",
    "          'min_samples_split': [20, 40, 60, 80],\n",
    "          'min_impurity_split': [0.03, 0.05, 0.1, 0.2]}\n",
    "\n",
    "tree_grid = run_gridsearch(DecisionTreeClassifier, params,\n",
    "                           X_train, X_test,\n",
    "                           y_train, y_test, random_state=111)"
   ]
  },
  {
   "cell_type": "code",
   "execution_count": 21,
   "metadata": {},
   "outputs": [
    {
     "data": {
      "text/html": [
       "<div>\n",
       "<style scoped>\n",
       "    .dataframe tbody tr th:only-of-type {\n",
       "        vertical-align: middle;\n",
       "    }\n",
       "\n",
       "    .dataframe tbody tr th {\n",
       "        vertical-align: top;\n",
       "    }\n",
       "\n",
       "    .dataframe thead th {\n",
       "        text-align: right;\n",
       "    }\n",
       "</style>\n",
       "<table border=\"1\" class=\"dataframe\">\n",
       "  <thead>\n",
       "    <tr style=\"text-align: right;\">\n",
       "      <th></th>\n",
       "      <th>Feature</th>\n",
       "      <th>Importance</th>\n",
       "    </tr>\n",
       "  </thead>\n",
       "  <tbody>\n",
       "    <tr>\n",
       "      <th>0</th>\n",
       "      <td>Age</td>\n",
       "      <td>0.302462</td>\n",
       "    </tr>\n",
       "    <tr>\n",
       "      <th>1</th>\n",
       "      <td>Gender</td>\n",
       "      <td>0.032392</td>\n",
       "    </tr>\n",
       "    <tr>\n",
       "      <th>2</th>\n",
       "      <td>Education</td>\n",
       "      <td>0.018051</td>\n",
       "    </tr>\n",
       "    <tr>\n",
       "      <th>3</th>\n",
       "      <td>Neuroticism</td>\n",
       "      <td>0.011372</td>\n",
       "    </tr>\n",
       "    <tr>\n",
       "      <th>4</th>\n",
       "      <td>Extraversion</td>\n",
       "      <td>0.000000</td>\n",
       "    </tr>\n",
       "    <tr>\n",
       "      <th>5</th>\n",
       "      <td>Openness</td>\n",
       "      <td>0.082476</td>\n",
       "    </tr>\n",
       "    <tr>\n",
       "      <th>6</th>\n",
       "      <td>Agreeableness</td>\n",
       "      <td>0.011631</td>\n",
       "    </tr>\n",
       "    <tr>\n",
       "      <th>7</th>\n",
       "      <td>Conscientiousness</td>\n",
       "      <td>0.062216</td>\n",
       "    </tr>\n",
       "    <tr>\n",
       "      <th>8</th>\n",
       "      <td>Impulsiveness</td>\n",
       "      <td>0.000000</td>\n",
       "    </tr>\n",
       "    <tr>\n",
       "      <th>9</th>\n",
       "      <td>Sensation-seeking</td>\n",
       "      <td>0.479400</td>\n",
       "    </tr>\n",
       "  </tbody>\n",
       "</table>\n",
       "</div>"
      ],
      "text/plain": [
       "             Feature  Importance\n",
       "0                Age    0.302462\n",
       "1             Gender    0.032392\n",
       "2          Education    0.018051\n",
       "3        Neuroticism    0.011372\n",
       "4       Extraversion    0.000000\n",
       "5           Openness    0.082476\n",
       "6      Agreeableness    0.011631\n",
       "7  Conscientiousness    0.062216\n",
       "8      Impulsiveness    0.000000\n",
       "9  Sensation-seeking    0.479400"
      ]
     },
     "execution_count": 21,
     "metadata": {},
     "output_type": "execute_result"
    }
   ],
   "source": [
    "feat_imp = pd.DataFrame(zip(X.columns, tree_grid.best_estimator_.feature_importances_), \n",
    "                        columns=['Feature', 'Importance'])\n",
    "feat_imp"
   ]
  },
  {
   "cell_type": "code",
   "execution_count": 22,
   "metadata": {},
   "outputs": [
    {
     "data": {
      "image/png": "[encoded data removed]",
      "text/plain": [
       "<Figure size 360x360 with 1 Axes>"
      ]
     },
     "metadata": {
      "needs_background": "light"
     },
     "output_type": "display_data"
    }
   ],
   "source": [
    "plt.figure(figsize=(5,5))\n",
    "plt.barh(feat_imp.Feature, feat_imp.Importance);"
   ]
  },
  {
   "cell_type": "markdown",
   "metadata": {},
   "source": [
    "## 2.3. Random Forest"
   ]
  },
  {
   "cell_type": "code",
   "execution_count": 24,
   "metadata": {
    "ExecuteTime": {
     "end_time": "2019-11-07T02:41:57.614843Z",
     "start_time": "2019-11-07T02:40:59.699465Z"
    }
   },
   "outputs": [
    {
     "name": "stdout",
     "output_type": "stream",
     "text": [
      "Fitting 5 folds for each of 160 candidates, totalling 800 fits\n"
     ]
    },
    {
     "name": "stderr",
     "output_type": "stream",
     "text": [
      "[Parallel(n_jobs=-1)]: Using backend LokyBackend with 8 concurrent workers.\n",
      "[Parallel(n_jobs=-1)]: Done  34 tasks      | elapsed:    3.8s\n",
      "[Parallel(n_jobs=-1)]: Done 184 tasks      | elapsed:   12.1s\n",
      "[Parallel(n_jobs=-1)]: Done 434 tasks      | elapsed:   30.5s\n",
      "[Parallel(n_jobs=-1)]: Done 784 tasks      | elapsed:   55.2s\n"
     ]
    },
    {
     "name": "stdout",
     "output_type": "stream",
     "text": [
      "Best params: {'criterion': 'gini', 'max_depth': 4, 'max_features': 4, 'n_estimators': 10}\n",
      "Train score: 0.746\n",
      "Test score: 0.721\n"
     ]
    },
    {
     "name": "stderr",
     "output_type": "stream",
     "text": [
      "[Parallel(n_jobs=-1)]: Done 800 out of 800 | elapsed:   57.8s finished\n"
     ]
    }
   ],
   "source": [
    "params = {'n_estimators': [10, 100, 200, 500],\n",
    "          'criterion': ['gini', 'entropy'],\n",
    "          'max_depth': [2, 4, 6, 8, 10],\n",
    "          'max_features': [2, 4, 6, 8]}\n",
    "\n",
    "rf_grid = run_gridsearch(RandomForestClassifier, params,\n",
    "                         X_train, X_test,\n",
    "                         y_train, y_test, random_state=222)"
   ]
  },
  {
   "cell_type": "code",
   "execution_count": 26,
   "metadata": {},
   "outputs": [
    {
     "data": {
      "text/html": [
       "<div>\n",
       "<style scoped>\n",
       "    .dataframe tbody tr th:only-of-type {\n",
       "        vertical-align: middle;\n",
       "    }\n",
       "\n",
       "    .dataframe tbody tr th {\n",
       "        vertical-align: top;\n",
       "    }\n",
       "\n",
       "    .dataframe thead th {\n",
       "        text-align: right;\n",
       "    }\n",
       "</style>\n",
       "<table border=\"1\" class=\"dataframe\">\n",
       "  <thead>\n",
       "    <tr style=\"text-align: right;\">\n",
       "      <th></th>\n",
       "      <th>Feature</th>\n",
       "      <th>Importance</th>\n",
       "    </tr>\n",
       "  </thead>\n",
       "  <tbody>\n",
       "    <tr>\n",
       "      <th>0</th>\n",
       "      <td>Age</td>\n",
       "      <td>0.206653</td>\n",
       "    </tr>\n",
       "    <tr>\n",
       "      <th>9</th>\n",
       "      <td>Sensation-seeking</td>\n",
       "      <td>0.187875</td>\n",
       "    </tr>\n",
       "    <tr>\n",
       "      <th>5</th>\n",
       "      <td>Openness</td>\n",
       "      <td>0.148012</td>\n",
       "    </tr>\n",
       "    <tr>\n",
       "      <th>7</th>\n",
       "      <td>Conscientiousness</td>\n",
       "      <td>0.095973</td>\n",
       "    </tr>\n",
       "    <tr>\n",
       "      <th>2</th>\n",
       "      <td>Education</td>\n",
       "      <td>0.073912</td>\n",
       "    </tr>\n",
       "    <tr>\n",
       "      <th>8</th>\n",
       "      <td>Impulsiveness</td>\n",
       "      <td>0.064825</td>\n",
       "    </tr>\n",
       "    <tr>\n",
       "      <th>4</th>\n",
       "      <td>Extraversion</td>\n",
       "      <td>0.060068</td>\n",
       "    </tr>\n",
       "    <tr>\n",
       "      <th>3</th>\n",
       "      <td>Neuroticism</td>\n",
       "      <td>0.059851</td>\n",
       "    </tr>\n",
       "    <tr>\n",
       "      <th>6</th>\n",
       "      <td>Agreeableness</td>\n",
       "      <td>0.055942</td>\n",
       "    </tr>\n",
       "    <tr>\n",
       "      <th>1</th>\n",
       "      <td>Gender</td>\n",
       "      <td>0.046888</td>\n",
       "    </tr>\n",
       "  </tbody>\n",
       "</table>\n",
       "</div>"
      ],
      "text/plain": [
       "             Feature  Importance\n",
       "0                Age    0.206653\n",
       "9  Sensation-seeking    0.187875\n",
       "5           Openness    0.148012\n",
       "7  Conscientiousness    0.095973\n",
       "2          Education    0.073912\n",
       "8      Impulsiveness    0.064825\n",
       "4       Extraversion    0.060068\n",
       "3        Neuroticism    0.059851\n",
       "6      Agreeableness    0.055942\n",
       "1             Gender    0.046888"
      ]
     },
     "execution_count": 26,
     "metadata": {},
     "output_type": "execute_result"
    }
   ],
   "source": [
    "feat_imp_rf = pd.DataFrame(zip(X.columns, rf_grid.best_estimator_.feature_importances_), \n",
    "                        columns=['Feature', 'Importance'])\n",
    "feat_imp_rf.sort_values(by='Importance', ascending=False, inplace=True)\n",
    "feat_imp_rf"
   ]
  },
  {
   "cell_type": "markdown",
   "metadata": {},
   "source": [
    "## 2.4. Gradient Boosting"
   ]
  },
  {
   "cell_type": "code",
   "execution_count": 25,
   "metadata": {
    "ExecuteTime": {
     "end_time": "2019-11-07T02:42:16.437169Z",
     "start_time": "2019-11-07T02:41:57.617381Z"
    }
   },
   "outputs": [
    {
     "name": "stderr",
     "output_type": "stream",
     "text": [
      "[Parallel(n_jobs=-1)]: Using backend LokyBackend with 8 concurrent workers.\n"
     ]
    },
    {
     "name": "stdout",
     "output_type": "stream",
     "text": [
      "Fitting 5 folds for each of 192 candidates, totalling 960 fits\n"
     ]
    },
    {
     "name": "stderr",
     "output_type": "stream",
     "text": [
      "[Parallel(n_jobs=-1)]: Done 376 tasks      | elapsed:    7.2s\n",
      "[Parallel(n_jobs=-1)]: Done 867 tasks      | elapsed:   15.8s\n",
      "[Parallel(n_jobs=-1)]: Done 945 out of 960 | elapsed:   18.0s remaining:    0.3s\n"
     ]
    },
    {
     "name": "stdout",
     "output_type": "stream",
     "text": [
      "Best params: {'learning_rate': 0.4, 'max_depth': 5, 'max_features': 3, 'n_estimators': 10}\n",
      "Train score: 0.749\n",
      "Test score: 0.714\n"
     ]
    },
    {
     "name": "stderr",
     "output_type": "stream",
     "text": [
      "[Parallel(n_jobs=-1)]: Done 960 out of 960 | elapsed:   18.7s finished\n"
     ]
    }
   ],
   "source": [
    "params = {\"learning_rate\": [0.1, 0.2, 0.4],\n",
    "          'max_depth': [2, 3, 4, 5],\n",
    "          'max_features': [2, 3, 4, 5],\n",
    "          'n_estimators': [10, 50, 100, 200],\n",
    "          }\n",
    "\n",
    "g_boost = run_gridsearch(GradientBoostingClassifier, params,\n",
    "                         X_train, X_test,\n",
    "                         y_train, y_test, random_state=123)"
   ]
  },
  {
   "cell_type": "code",
   "execution_count": 31,
   "metadata": {},
   "outputs": [
    {
     "data": {
      "text/html": [
       "<div>\n",
       "<style scoped>\n",
       "    .dataframe tbody tr th:only-of-type {\n",
       "        vertical-align: middle;\n",
       "    }\n",
       "\n",
       "    .dataframe tbody tr th {\n",
       "        vertical-align: top;\n",
       "    }\n",
       "\n",
       "    .dataframe thead th {\n",
       "        text-align: right;\n",
       "    }\n",
       "</style>\n",
       "<table border=\"1\" class=\"dataframe\">\n",
       "  <thead>\n",
       "    <tr style=\"text-align: right;\">\n",
       "      <th></th>\n",
       "      <th>Feature</th>\n",
       "      <th>Importance</th>\n",
       "    </tr>\n",
       "  </thead>\n",
       "  <tbody>\n",
       "    <tr>\n",
       "      <th>9</th>\n",
       "      <td>Sensation-seeking</td>\n",
       "      <td>0.243655</td>\n",
       "    </tr>\n",
       "    <tr>\n",
       "      <th>0</th>\n",
       "      <td>Age</td>\n",
       "      <td>0.208606</td>\n",
       "    </tr>\n",
       "    <tr>\n",
       "      <th>5</th>\n",
       "      <td>Openness</td>\n",
       "      <td>0.155950</td>\n",
       "    </tr>\n",
       "    <tr>\n",
       "      <th>2</th>\n",
       "      <td>Education</td>\n",
       "      <td>0.090225</td>\n",
       "    </tr>\n",
       "    <tr>\n",
       "      <th>7</th>\n",
       "      <td>Conscientiousness</td>\n",
       "      <td>0.074847</td>\n",
       "    </tr>\n",
       "    <tr>\n",
       "      <th>3</th>\n",
       "      <td>Neuroticism</td>\n",
       "      <td>0.058696</td>\n",
       "    </tr>\n",
       "    <tr>\n",
       "      <th>4</th>\n",
       "      <td>Extraversion</td>\n",
       "      <td>0.046805</td>\n",
       "    </tr>\n",
       "    <tr>\n",
       "      <th>6</th>\n",
       "      <td>Agreeableness</td>\n",
       "      <td>0.044582</td>\n",
       "    </tr>\n",
       "    <tr>\n",
       "      <th>8</th>\n",
       "      <td>Impulsiveness</td>\n",
       "      <td>0.039006</td>\n",
       "    </tr>\n",
       "    <tr>\n",
       "      <th>1</th>\n",
       "      <td>Gender</td>\n",
       "      <td>0.037627</td>\n",
       "    </tr>\n",
       "  </tbody>\n",
       "</table>\n",
       "</div>"
      ],
      "text/plain": [
       "             Feature  Importance\n",
       "9  Sensation-seeking    0.243655\n",
       "0                Age    0.208606\n",
       "5           Openness    0.155950\n",
       "2          Education    0.090225\n",
       "7  Conscientiousness    0.074847\n",
       "3        Neuroticism    0.058696\n",
       "4       Extraversion    0.046805\n",
       "6      Agreeableness    0.044582\n",
       "8      Impulsiveness    0.039006\n",
       "1             Gender    0.037627"
      ]
     },
     "execution_count": 31,
     "metadata": {},
     "output_type": "execute_result"
    }
   ],
   "source": [
    "feat_imp_gb = pd.DataFrame(zip(X.columns, g_boost.best_estimator_.feature_importances_), \n",
    "                        columns=['Feature', 'Importance'])\n",
    "feat_imp_gb.sort_values(by='Importance', ascending=False)"
   ]
  },
  {
   "cell_type": "markdown",
   "metadata": {},
   "source": [
    "## 2.5. XGBoost"
   ]
  },
  {
   "cell_type": "code",
   "execution_count": 26,
   "metadata": {
    "ExecuteTime": {
     "end_time": "2019-11-07T02:43:00.319793Z",
     "start_time": "2019-11-07T02:42:19.237408Z"
    }
   },
   "outputs": [
    {
     "name": "stdout",
     "output_type": "stream",
     "text": [
      "Fitting 5 folds for each of 288 candidates, totalling 1440 fits\n"
     ]
    },
    {
     "name": "stderr",
     "output_type": "stream",
     "text": [
      "[Parallel(n_jobs=-1)]: Using backend LokyBackend with 8 concurrent workers.\n",
      "[Parallel(n_jobs=-1)]: Done 124 tasks      | elapsed:    2.8s\n",
      "[Parallel(n_jobs=-1)]: Done 631 tasks      | elapsed:   17.4s\n",
      "[Parallel(n_jobs=-1)]: Done 1381 tasks      | elapsed:   38.6s\n"
     ]
    },
    {
     "name": "stdout",
     "output_type": "stream",
     "text": [
      "Best params: {'learning_rate': 0.1, 'max_depth': 2, 'min_child_weight': 0.1, 'n_estimators': 50, 'subsample': 0.3}\n",
      "Train score: 0.747\n",
      "Test score: 0.711\n"
     ]
    },
    {
     "name": "stderr",
     "output_type": "stream",
     "text": [
      "[Parallel(n_jobs=-1)]: Done 1440 out of 1440 | elapsed:   41.0s finished\n"
     ]
    }
   ],
   "source": [
    "params = {\"learning_rate\": [0.1, 0.2],\n",
    "          'max_depth': [2, 3, 4, 5],\n",
    "          'min_child_weight': [0.1, 0.2, 0.3],\n",
    "          'subsample': [0.2, 0.3, 0.5],\n",
    "          'n_estimators': [50, 100, 150, 200],\n",
    "          }\n",
    "\n",
    "xg_boost = run_gridsearch(xgb.XGBClassifier, params,\n",
    "                          X_train, X_test,\n",
    "                          y_train, y_test, random_state=234)"
   ]
  },
  {
   "cell_type": "markdown",
   "metadata": {},
   "source": [
    "## 2.6. KNN "
   ]
  },
  {
   "cell_type": "code",
   "execution_count": 27,
   "metadata": {
    "ExecuteTime": {
     "end_time": "2019-11-07T02:43:00.825413Z",
     "start_time": "2019-11-07T02:43:00.321668Z"
    }
   },
   "outputs": [
    {
     "name": "stderr",
     "output_type": "stream",
     "text": [
      "[Parallel(n_jobs=-1)]: Using backend LokyBackend with 8 concurrent workers.\n"
     ]
    },
    {
     "name": "stdout",
     "output_type": "stream",
     "text": [
      "Fitting 5 folds for each of 15 candidates, totalling 75 fits\n",
      "Best params: {'n_neighbors': 25}\n",
      "Train score: 0.737\n",
      "Test score: 0.703\n"
     ]
    },
    {
     "name": "stderr",
     "output_type": "stream",
     "text": [
      "[Parallel(n_jobs=-1)]: Done  75 out of  75 | elapsed:    0.4s finished\n"
     ]
    }
   ],
   "source": [
    "params = {'n_neighbors': range(1, 30, 2)}\n",
    "\n",
    "\n",
    "knn_grid = run_gridsearch_scaled(KNeighborsClassifier, params,\n",
    "                                 X_train_scaled, X_test_scaled,\n",
    "                                 y_train, y_test)"
   ]
  },
  {
   "cell_type": "markdown",
   "metadata": {},
   "source": [
    "## 2.7. Support Vector Machine"
   ]
  },
  {
   "cell_type": "code",
   "execution_count": 33,
   "metadata": {
    "ExecuteTime": {
     "end_time": "2019-11-07T02:54:00.951714Z",
     "start_time": "2019-11-07T02:53:54.147233Z"
    }
   },
   "outputs": [
    {
     "name": "stdout",
     "output_type": "stream",
     "text": [
      "Fitting 5 folds for each of 18 candidates, totalling 90 fits\n"
     ]
    },
    {
     "name": "stderr",
     "output_type": "stream",
     "text": [
      "[Parallel(n_jobs=-1)]: Using backend LokyBackend with 8 concurrent workers.\n",
      "[Parallel(n_jobs=-1)]: Done  34 tasks      | elapsed:    3.2s\n",
      "[Parallel(n_jobs=-1)]: Done  90 out of  90 | elapsed:    6.5s finished\n"
     ]
    },
    {
     "name": "stdout",
     "output_type": "stream",
     "text": [
      "Best params: {'C': 1, 'degree': 2, 'kernel': 'linear'}\n",
      "Train score: 0.755\n",
      "Test score: 0.727\n"
     ]
    }
   ],
   "source": [
    "params = {'kernel': ['linear', 'poly', 'rbf'],\n",
    "          'C': [0.1, 1, 10, 1000], #high C allows narrow mistakes\n",
    "          'degree': [2, 3]}\n",
    "\n",
    "\n",
    "svm_grid = run_gridsearch_scaled('SVM', params,\n",
    "                                 X_train_scaled, X_test_scaled,\n",
    "                                 y_train, y_test, random_state=766)"
   ]
  },
  {
   "cell_type": "markdown",
   "metadata": {},
   "source": [
    "## FINDINGS"
   ]
  },
  {
   "cell_type": "markdown",
   "metadata": {},
   "source": [
    "## 3.1. ROC curves"
   ]
  },
  {
   "cell_type": "markdown",
   "metadata": {},
   "source": [
    "We are using ROC (Receiver Operating Characteristic) curves and AUC (Area Under the Curve) to compare the performance of different models and select the most predictible one. The x axis of the ROC curve is the False Positive Rate (we want to minimize it), the y axis is the True Positive Rate (we want to maximize it). So, a model which follows the dotted black line is not better than a random guess, a model which lies is above it, and goes along the y axes (AUC = 1) are the perfect predictors. The area under the curve is the quantification of the ROC curves, and the higher is the number, the better predictor is the model. AUC = 1 is the perfect predictor."
   ]
  },
  {
   "cell_type": "code",
   "execution_count": 34,
   "metadata": {
    "ExecuteTime": {
     "end_time": "2019-11-07T02:54:12.983296Z",
     "start_time": "2019-11-07T02:54:12.562965Z"
    }
   },
   "outputs": [
    {
     "data": {
      "image/png": "[encoded data removed]",
      "text/plain": [
       "<Figure size 720x576 with 1 Axes>"
      ]
     },
     "metadata": {
      "needs_background": "light"
     },
     "output_type": "display_data"
    }
   ],
   "source": [
    "models = [g_boost, xg_boost, rf_grid, log_grid, tree_grid, knn_grid, svm_grid]\n",
    "\n",
    "model_names = ['Gradient Boosting', 'XGBoost',\n",
    "               'RandomForest', 'Logistic Regression',\n",
    "               'DecisionTree', 'KNN', 'SVM']\n",
    "\n",
    "plot_roc_curve(models, model_names, X_test, X_test_scaled, y_test, 'Ecstasy')"
   ]
  },
  {
   "cell_type": "code",
   "execution_count": 36,
   "metadata": {
    "ExecuteTime": {
     "end_time": "2019-11-07T02:56:09.860116Z",
     "start_time": "2019-11-07T02:56:09.541280Z"
    }
   },
   "outputs": [
    {
     "data": {
      "image/png": "[encoded data removed]",
      "text/plain": [
       "<Figure size 720x576 with 1 Axes>"
      ]
     },
     "metadata": {
      "needs_background": "light"
     },
     "output_type": "display_data"
    }
   ],
   "source": [
    "models = [tree_grid, knn_grid, svm_grid]\n",
    "\n",
    "model_names = ['DecisionTree', 'KNN', 'SVM']\n",
    "\n",
    "plot_roc_curve(models, model_names, X_test,\n",
    "               X_test_scaled, y_test, 'Ecstasy')"
   ]
  },
  {
   "cell_type": "markdown",
   "metadata": {},
   "source": [
    "According to the ROC and AUC result, we were choosing SVM model as the best predictor for predicting that somebody becomes ecstasy user."
   ]
  },
  {
   "cell_type": "markdown",
   "metadata": {},
   "source": [
    "## 3.2 Interprete the result of the SVM model"
   ]
  },
  {
   "cell_type": "code",
   "execution_count": 43,
   "metadata": {
    "ExecuteTime": {
     "end_time": "2019-11-07T02:57:05.679901Z",
     "start_time": "2019-11-07T02:57:05.623025Z"
    }
   },
   "outputs": [],
   "source": [
    "feat_imp_svm = pd.DataFrame(zip(X.columns, svm_grid.best_estimator_.coef_[0]), \n",
    "                        columns=['Feature', 'Coefficient'])\n",
    "feat_imp_svm['Absolute Coefficient'] = feat_imp_svm.Coefficient.apply(lambda x: abs(x))\n",
    "feat_imp_svm = feat_imp_svm.sort_values(by='Absolute Coefficient')"
   ]
  },
  {
   "cell_type": "code",
   "execution_count": 44,
   "metadata": {
    "ExecuteTime": {
     "end_time": "2019-11-07T02:57:06.252888Z",
     "start_time": "2019-11-07T02:57:06.197088Z"
    }
   },
   "outputs": [
    {
     "data": {
      "text/html": [
       "<div>\n",
       "<style scoped>\n",
       "    .dataframe tbody tr th:only-of-type {\n",
       "        vertical-align: middle;\n",
       "    }\n",
       "\n",
       "    .dataframe tbody tr th {\n",
       "        vertical-align: top;\n",
       "    }\n",
       "\n",
       "    .dataframe thead th {\n",
       "        text-align: right;\n",
       "    }\n",
       "</style>\n",
       "<table border=\"1\" class=\"dataframe\">\n",
       "  <thead>\n",
       "    <tr style=\"text-align: right;\">\n",
       "      <th></th>\n",
       "      <th>Feature</th>\n",
       "      <th>Coefficient</th>\n",
       "      <th>Absolute Coefficient</th>\n",
       "    </tr>\n",
       "  </thead>\n",
       "  <tbody>\n",
       "    <tr>\n",
       "      <th>3</th>\n",
       "      <td>Neuroticism</td>\n",
       "      <td>0.013300</td>\n",
       "      <td>0.013300</td>\n",
       "    </tr>\n",
       "    <tr>\n",
       "      <th>8</th>\n",
       "      <td>Impusivity</td>\n",
       "      <td>-0.037726</td>\n",
       "      <td>0.037726</td>\n",
       "    </tr>\n",
       "    <tr>\n",
       "      <th>4</th>\n",
       "      <td>Extraversion</td>\n",
       "      <td>0.044689</td>\n",
       "      <td>0.044689</td>\n",
       "    </tr>\n",
       "    <tr>\n",
       "      <th>6</th>\n",
       "      <td>Agreeableness</td>\n",
       "      <td>-0.071096</td>\n",
       "      <td>0.071096</td>\n",
       "    </tr>\n",
       "    <tr>\n",
       "      <th>2</th>\n",
       "      <td>Education</td>\n",
       "      <td>-0.151085</td>\n",
       "      <td>0.151085</td>\n",
       "    </tr>\n",
       "    <tr>\n",
       "      <th>7</th>\n",
       "      <td>Conscientiousness</td>\n",
       "      <td>-0.200047</td>\n",
       "      <td>0.200047</td>\n",
       "    </tr>\n",
       "    <tr>\n",
       "      <th>5</th>\n",
       "      <td>Openness to experience</td>\n",
       "      <td>0.367234</td>\n",
       "      <td>0.367234</td>\n",
       "    </tr>\n",
       "    <tr>\n",
       "      <th>9</th>\n",
       "      <td>Sensation-seeking</td>\n",
       "      <td>0.445001</td>\n",
       "      <td>0.445001</td>\n",
       "    </tr>\n",
       "    <tr>\n",
       "      <th>1</th>\n",
       "      <td>Gender</td>\n",
       "      <td>0.452999</td>\n",
       "      <td>0.452999</td>\n",
       "    </tr>\n",
       "    <tr>\n",
       "      <th>0</th>\n",
       "      <td>Age</td>\n",
       "      <td>-0.629330</td>\n",
       "      <td>0.629330</td>\n",
       "    </tr>\n",
       "  </tbody>\n",
       "</table>\n",
       "</div>"
      ],
      "text/plain": [
       "                  Feature  Coefficient  Absolute Coefficient\n",
       "3             Neuroticism     0.013300              0.013300\n",
       "8              Impusivity    -0.037726              0.037726\n",
       "4            Extraversion     0.044689              0.044689\n",
       "6           Agreeableness    -0.071096              0.071096\n",
       "2               Education    -0.151085              0.151085\n",
       "7       Conscientiousness    -0.200047              0.200047\n",
       "5  Openness to experience     0.367234              0.367234\n",
       "9       Sensation-seeking     0.445001              0.445001\n",
       "1                  Gender     0.452999              0.452999\n",
       "0                     Age    -0.629330              0.629330"
      ]
     },
     "execution_count": 44,
     "metadata": {},
     "output_type": "execute_result"
    }
   ],
   "source": [
    "feat_imp_svm"
   ]
  },
  {
   "cell_type": "code",
   "execution_count": 50,
   "metadata": {
    "ExecuteTime": {
     "end_time": "2019-11-07T02:59:01.149962Z",
     "start_time": "2019-11-07T02:59:00.599288Z"
    }
   },
   "outputs": [
    {
     "data": {
      "text/html": [
       "        <script type=\"text/javascript\">\n",
       "        window.PlotlyConfig = {MathJaxConfig: 'local'};\n",
       "        if (window.MathJax) {MathJax.Hub.Config({SVG: {font: \"STIX-Web\"}});}\n",
       "        if (typeof require !== 'undefined') {\n",
       "        require.undef(\"plotly\");\n",
       "        requirejs.config({\n",
       "            paths: {\n",
       "                'plotly': ['https://cdn.plot.ly/plotly-latest.min']\n",
       "            }\n",
       "        });\n",
       "        require(['plotly'], function(Plotly) {\n",
       "            window._Plotly = Plotly;\n",
       "        });\n",
       "        }\n",
       "        </script>\n",
       "        "
      ]
     },
     "metadata": {},
     "output_type": "display_data"
    },
    {
     "data": {
      "image/png": "[encoded data removed]",
      "text/plain": [
       "<Figure size 576x576 with 1 Axes>"
      ]
     },
     "metadata": {
      "needs_background": "light"
     },
     "output_type": "display_data"
    }
   ],
   "source": [
    "plot_feat_imp('SVM', feat_imp_svm, 'Ecstasy')\n",
    "plt.savefig('img/feature_imp_ecstasy2.png', bbox_inches='tight')"
   ]
  },
  {
   "cell_type": "markdown",
   "metadata": {},
   "source": [
    "In case of SVM model, if the kernel is linear, the feature importance is available from coefficients, since our variables are scaled. The absolute value of the coefficient can be interpreted as the featuer importance, the positive/negative value can be interpreted as their relation to becoming an ecstasy user. (For example: the higher is the openness, sensation score, it is more likely, however the older and more educated is less likely to become an ecsatsy user.)"
   ]
  },
  {
   "cell_type": "markdown",
   "metadata": {},
   "source": [
    "## 3.3. Confusion Matrix"
   ]
  },
  {
   "cell_type": "code",
   "execution_count": 51,
   "metadata": {
    "ExecuteTime": {
     "end_time": "2019-11-07T03:00:00.222678Z",
     "start_time": "2019-11-07T03:00:00.033136Z"
    }
   },
   "outputs": [
    {
     "data": {
      "text/html": [
       "        <script type=\"text/javascript\">\n",
       "        window.PlotlyConfig = {MathJaxConfig: 'local'};\n",
       "        if (window.MathJax) {MathJax.Hub.Config({SVG: {font: \"STIX-Web\"}});}\n",
       "        if (typeof require !== 'undefined') {\n",
       "        require.undef(\"plotly\");\n",
       "        requirejs.config({\n",
       "            paths: {\n",
       "                'plotly': ['https://cdn.plot.ly/plotly-latest.min']\n",
       "            }\n",
       "        });\n",
       "        require(['plotly'], function(Plotly) {\n",
       "            window._Plotly = Plotly;\n",
       "        });\n",
       "        }\n",
       "        </script>\n",
       "        "
      ]
     },
     "metadata": {},
     "output_type": "display_data"
    },
    {
     "data": {
      "image/png": "[encoded data removed]",
      "text/plain": [
       "<Figure size 576x360 with 1 Axes>"
      ]
     },
     "metadata": {
      "needs_background": "light"
     },
     "output_type": "display_data"
    }
   ],
   "source": [
    "plot_confusion_matrix(y_test, X_test_scaled, svm_grid, 'Ecstasy')\n",
    "plt.savefig('img/conf_m_ecstasy.png', bbox_inches='tight')"
   ]
  }
 ],
 "metadata": {
  "kernelspec": {
   "display_name": "Python 3",
   "language": "python",
   "name": "python3"
  },
  "language_info": {
   "codemirror_mode": {
    "name": "ipython",
    "version": 3
   },
   "file_extension": ".py",
   "mimetype": "text/x-python",
   "name": "python",
   "nbconvert_exporter": "python",
   "pygments_lexer": "ipython3",
   "version": "3.7.3"
  },
  "toc": {
   "base_numbering": 1,
   "nav_menu": {},
   "number_sections": true,
   "sideBar": true,
   "skip_h1_title": false,
   "title_cell": "Table of Contents",
   "title_sidebar": "Contents",
   "toc_cell": false,
   "toc_position": {},
   "toc_section_display": true,
   "toc_window_display": false
  },
  "varInspector": {
   "cols": {
    "lenName": 16,
    "lenType": 16,
    "lenVar": 40
   },
   "kernels_config": {
    "python": {
     "delete_cmd_postfix": "",
     "delete_cmd_prefix": "del ",
     "library": "var_list.py",
     "varRefreshCmd": "print(var_dic_list())"
    },
    "r": {
     "delete_cmd_postfix": ") ",
     "delete_cmd_prefix": "rm(",
     "library": "var_list.r",
     "varRefreshCmd": "cat(var_dic_list()) "
    }
   },
   "types_to_exclude": [
    "module",
    "function",
    "builtin_function_or_method",
    "instance",
    "_Feature"
   ],
   "window_display": false
  }
 },
 "nbformat": 4,
 "nbformat_minor": 2
}
