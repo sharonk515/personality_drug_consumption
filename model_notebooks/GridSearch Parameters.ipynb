{
 "cells": [
  {
   "cell_type": "code",
   "execution_count": null,
   "metadata": {},
   "outputs": [],
   "source": [
    "grid_log = {'C': [0.001, 0.01, 10, 100],\n",
    "            'penalty': ['l1', 'l2']}\n",
    "\n",
    "gs_log = run_gridsearch_scaled(LogisticRegression, grid_log,\n",
    "                               X_train_scale, X_test_scale,\n",
    "                               y_train, y_test, random_state=220)"
   ]
  },
  {
   "cell_type": "code",
   "execution_count": null,
   "metadata": {},
   "outputs": [],
   "source": [
    "grid_forest = {'n_estimators': [120, 500, 1200],\n",
    "               'max_depth': [5, 25, None],\n",
    "               'min_samples_split': [2, 10, 100],\n",
    "               'min_samples_leaf': [1, 5, 10],\n",
    "               'max_features': ['log2', 'sqrt', None]}\n",
    "\n",
    "gs_forest = run_gridsearch(RandomForestClassifier, grid_forest,\n",
    "                           X_train, X_test, y_train,\n",
    "                           y_test, random_state=220)"
   ]
  },
  {
   "cell_type": "code",
   "execution_count": null,
   "metadata": {},
   "outputs": [],
   "source": [
    "grid_lgb = {'learning_rate': [0.015, 0.01, 0.1],\n",
    "            'max_depth': [3, 12, 25],\n",
    "            'min_child_weight': [1, 5, 7],\n",
    "            'subsample': [0.1, 0.6, 1]}\n",
    "\n",
    "gs_lgb = run_gridsearch(lgb.LGBMClassifier, grid_lgb,\n",
    "                        X_train, X_test, y_train,\n",
    "                        y_test, random_state=220)"
   ]
  },
  {
   "cell_type": "code",
   "execution_count": null,
   "metadata": {},
   "outputs": [],
   "source": [
    "grid_knn = {'n_neighbors': [2, 16, 64]}\n",
    "\n",
    "gs_knn = run_gridsearch_scaled(KNeighborsClassifier, grid_knn,\n",
    "                               X_train_scale, X_test_scale,\n",
    "                               y_train, y_test)"
   ]
  },
  {
   "cell_type": "code",
   "execution_count": null,
   "metadata": {},
   "outputs": [],
   "source": [
    "grid_svm = {'C': [0.001, 10, 1000],\n",
    "            'class_weight': ['balanced', None],\n",
    "            'kernel': ['linear', 'rbf']}\n",
    "\n",
    "gs_svm = run_gridsearch_scaled('SVM', grid_svm,\n",
    "                               X_train_scale, X_test_scale,\n",
    "                               y_train, y_test, random_state=220)"
   ]
  }
 ],
 "metadata": {
  "kernelspec": {
   "display_name": "Python 3",
   "language": "python",
   "name": "python3"
  },
  "language_info": {
   "codemirror_mode": {
    "name": "ipython",
    "version": 3
   },
   "file_extension": ".py",
   "mimetype": "text/x-python",
   "name": "python",
   "nbconvert_exporter": "python",
   "pygments_lexer": "ipython3",
   "version": "3.7.3"
  },
  "toc": {
   "base_numbering": 1,
   "nav_menu": {},
   "number_sections": true,
   "sideBar": true,
   "skip_h1_title": false,
   "title_cell": "Table of Contents",
   "title_sidebar": "Contents",
   "toc_cell": false,
   "toc_position": {},
   "toc_section_display": true,
   "toc_window_display": false
  }
 },
 "nbformat": 4,
 "nbformat_minor": 2
}
